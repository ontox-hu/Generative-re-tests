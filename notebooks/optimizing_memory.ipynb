{
 "cells": [
  {
   "cell_type": "markdown",
   "id": "16f30d43-6c62-4330-9067-e91c4be1ac7c",
   "metadata": {},
   "source": [
    "# Optimizing memory usage \n"
   ]
  },
  {
   "cell_type": "code",
   "execution_count": 1,
   "id": "27313eb1-e07e-439a-b230-4ebcd5f0150b",
   "metadata": {},
   "outputs": [
    {
     "name": "stderr",
     "output_type": "stream",
     "text": [
      "/home/lgrootde/Generative-re-tests/venv/lib/python3.12/site-packages/tqdm/auto.py:21: TqdmWarning: IProgress not found. Please update jupyter and ipywidgets. See https://ipywidgets.readthedocs.io/en/stable/user_install.html\n",
      "  from .autonotebook import tqdm as notebook_tqdm\n"
     ]
    }
   ],
   "source": [
    "import torch\n",
    "from transformers import AutoModelForCausalLM, AutoTokenizer"
   ]
  },
  {
   "cell_type": "code",
   "execution_count": 2,
   "id": "fca34024-e490-4b14-9281-a29eeec2a8ee",
   "metadata": {},
   "outputs": [
    {
     "name": "stdout",
     "output_type": "stream",
     "text": [
      "Total GPU Memory: 79.15 GB\n"
     ]
    }
   ],
   "source": [
    "total_memory_bytes = torch.cuda.get_device_properties(0).total_memory\n",
    "\n",
    "# Convert bytes to gigabytes\n",
    "total_memory_gb = total_memory_bytes / (1024**3)\n",
    "\n",
    "print(f\"Total GPU Memory: {total_memory_gb:.2f} GB\")"
   ]
  },
  {
   "cell_type": "code",
   "execution_count": 3,
   "id": "a47267e7-3bd2-4b98-ab6b-2dbf0f642877",
   "metadata": {},
   "outputs": [
    {
     "name": "stdout",
     "output_type": "stream",
     "text": [
      "Thu Apr 11 16:48:40 2024       \n",
      "+---------------------------------------------------------------------------------------+\n",
      "| NVIDIA-SMI 545.23.08              Driver Version: 545.23.08    CUDA Version: 12.3     |\n",
      "|-----------------------------------------+----------------------+----------------------+\n",
      "| GPU  Name                 Persistence-M | Bus-Id        Disp.A | Volatile Uncorr. ECC |\n",
      "| Fan  Temp   Perf          Pwr:Usage/Cap |         Memory-Usage | GPU-Util  Compute M. |\n",
      "|                                         |                      |               MIG M. |\n",
      "|=========================================+======================+======================|\n",
      "|   0  NVIDIA A100 80GB PCIe          Off | 00000001:00:00.0 Off |                    0 |\n",
      "| N/A   31C    P0              62W / 300W |      9MiB / 81920MiB |      3%      Default |\n",
      "|                                         |                      |             Disabled |\n",
      "+-----------------------------------------+----------------------+----------------------+\n",
      "                                                                                         \n",
      "+---------------------------------------------------------------------------------------+\n",
      "| Processes:                                                                            |\n",
      "|  GPU   GI   CI        PID   Type   Process name                            GPU Memory |\n",
      "|        ID   ID                                                             Usage      |\n",
      "|=======================================================================================|\n",
      "|  No running processes found                                                           |\n",
      "+---------------------------------------------------------------------------------------+\n"
     ]
    }
   ],
   "source": [
    "gpu_info = !nvidia-smi\n",
    "gpu_info = '\\n'.join(gpu_info)\n",
    "if gpu_info.find('failed') >= 0:\n",
    "  print('Not connected to a GPU')\n",
    "else:\n",
    "  print(gpu_info)"
   ]
  },
  {
   "cell_type": "code",
   "execution_count": 4,
   "id": "7a1a44c4-d665-43b1-8439-34a90c212cdf",
   "metadata": {},
   "outputs": [],
   "source": [
    "# name = \"tiiuae/falcon-7b\"\n",
    "# model_8bit = AutoModelForCausalLM.from_pretrained(name, device_map=\"auto\", load_in_8bit=True)\n",
    "# model_norm = AutoModelForCausalLM.from_pretrained(name, device_map=\"auto\", load_in_8bit=False)\n",
    "# tokenizer = AutoTokenizer.from_pretrained(name)"
   ]
  },
  {
   "cell_type": "code",
   "execution_count": 5,
   "id": "87133a00-5ceb-4102-a194-d20c6095edd0",
   "metadata": {},
   "outputs": [],
   "source": [
    "# text = \"The coolest thing about biology is\"\n",
    "# encoded_input = tokenizer(text, return_tensors='pt')\n",
    "# output_sequences = model_8bit.generate(input_ids=encoded_input['input_ids'].cuda())\n",
    "# print(f\"8bit model output:{tokenizer.decode(output_sequences[0], skip_special_tokens=True)}\")\n",
    "# output_sequences = model_norm.generate(input_ids=encoded_input['input_ids'].cuda())\n",
    "# print(f\"normal model output:{tokenizer.decode(output_sequences[0], skip_special_tokens=True)}\")"
   ]
  },
  {
   "cell_type": "code",
   "execution_count": 6,
   "id": "9ad1c09d-a1dc-4cde-a4d2-e89e0933ff8d",
   "metadata": {},
   "outputs": [],
   "source": [
    "# mem_int8 = model_8bit.get_memory_footprint()\n",
    "# mem_fp16 = model_norm.get_memory_footprint()\n",
    "# print(f\"8bit model memory footprint:{(mem_int8/(1024**3)):.2f} GB\")\n",
    "# print(f\"normal model memory footprint:{(mem_fp16/(1024**3)):.2f} GB\")\n",
    "# print(f\"difference: {(mem_fp16/mem_int8):.2f}\")"
   ]
  },
  {
   "cell_type": "markdown",
   "id": "25040faf-99fd-484d-95c7-1063d8a54ccb",
   "metadata": {},
   "source": [
    "### Multiple GPU:"
   ]
  },
  {
   "cell_type": "markdown",
   "id": "2a8cc804-e2ae-42cc-acbd-55f22f9538f6",
   "metadata": {},
   "source": [
    "according to [this guide](https://huggingface.co/docs/transformers/perf_train_gpu_many) there are multiple ways to train on multiple GPU's. the prefered way is using ZeRO - as it requires close to no modifications to the model. Because i have acces to double A10's i think i should be able to use the required NVLINK or NVSwitch. So i'll be exploring if that possible."
   ]
  },
  {
   "cell_type": "markdown",
   "id": "a7a63d73-9345-4b57-80f1-54cda9d76581",
   "metadata": {},
   "source": [
    "checking if nvlink or nvswitch is availible by using [this source](https://guide.ncloud-docs.com/docs/en/server-baremetal-a100-check-vpc#:~:text=Use%20the%20nvidia%2Dsmi%20topo,NVLink%20connection%20status%20between%20GPUs.&text=If%20NVLink%20is%20normally%20initialized,fabricmanager%20service%20is%20loaded%20normally.)"
   ]
  },
  {
   "cell_type": "code",
   "execution_count": 7,
   "id": "ec66c0b6-961f-4621-87ba-d1cfd0e0c483",
   "metadata": {},
   "outputs": [
    {
     "name": "stdout",
     "output_type": "stream",
     "text": [
      "Unit nvidia-fabricmanager.service could not be found.\n"
     ]
    }
   ],
   "source": [
    "!systemctl status nvidia-fabricmanager.service"
   ]
  },
  {
   "cell_type": "code",
   "execution_count": 8,
   "id": "42d88ba3-867c-4642-9b80-98e184ae8c00",
   "metadata": {},
   "outputs": [
    {
     "name": "stdout",
     "output_type": "stream",
     "text": [
      "Unit nv_peer_mem.service could not be found.\n"
     ]
    }
   ],
   "source": [
    "!systemctl status nv_peer_mem.service"
   ]
  },
  {
   "cell_type": "markdown",
   "id": "3a45b12f-bd4f-4f67-a798-5b56a9bc9edb",
   "metadata": {},
   "source": [
    "I'm guessing that the A10 GPU does not have nvlink / nvswitch"
   ]
  }
 ],
 "metadata": {
  "kernelspec": {
   "display_name": "gen_re",
   "language": "python",
   "name": "gen_re"
  },
  "language_info": {
   "codemirror_mode": {
    "name": "ipython",
    "version": 3
   },
   "file_extension": ".py",
   "mimetype": "text/x-python",
   "name": "python",
   "nbconvert_exporter": "python",
   "pygments_lexer": "ipython3",
   "version": "3.12.1"
  }
 },
 "nbformat": 4,
 "nbformat_minor": 5
}
