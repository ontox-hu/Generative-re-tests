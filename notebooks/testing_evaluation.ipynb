{
 "cells": [
  {
   "cell_type": "markdown",
   "id": "0e73e663-e567-41b5-b6da-8eabd536ebb6",
   "metadata": {},
   "source": [
    "# Extracting triples\n",
    "The model outputs relationship triples in the form of structured text. This notebook shows how the relationship triples are extracted out of that text."
   ]
  },
  {
   "cell_type": "code",
   "execution_count": 1,
   "id": "0704f035-6cc2-46b9-ae48-fcb1c2961c99",
   "metadata": {},
   "outputs": [
    {
     "name": "stderr",
     "output_type": "stream",
     "text": [
      "/home/lgrootde/Generative-re-tests/venv/lib/python3.12/site-packages/tqdm/auto.py:21: TqdmWarning: IProgress not found. Please update jupyter and ipywidgets. See https://ipywidgets.readthedocs.io/en/stable/user_install.html\n",
      "  from .autonotebook import tqdm as notebook_tqdm\n"
     ]
    }
   ],
   "source": [
    "from datasets import load_dataset\n",
    "import evaluate\n",
    "import yaml\n",
    "import re\n",
    "import pandas as pd\n",
    "from transformers import AutoTokenizer\n",
    "from wasabi import msg"
   ]
  },
  {
   "cell_type": "markdown",
   "id": "404c1bd7-15c3-43e3-9dd1-504b2c2f7fe9",
   "metadata": {},
   "source": [
    "## Load Config"
   ]
  },
  {
   "cell_type": "code",
   "execution_count": 2,
   "id": "c39af0e9-3211-470b-b682-d62abdd353f3",
   "metadata": {},
   "outputs": [],
   "source": [
    "# Load the config\n",
    "with open('config/config_testing.yaml') as f:\n",
    "    config = yaml.load(f, Loader=yaml.FullLoader)"
   ]
  },
  {
   "cell_type": "markdown",
   "id": "3901495c-f095-43b8-9b97-b6b942c75f3d",
   "metadata": {},
   "source": [
    "## Load dataset"
   ]
  },
  {
   "cell_type": "code",
   "execution_count": 3,
   "id": "185367d7-734b-4799-ac47-caeef0072892",
   "metadata": {},
   "outputs": [],
   "source": [
    "dataset = load_dataset(\n",
    "        config['dataset_vars']['type'], \n",
    "        data_dir=config['dataset_vars']['dir'],\n",
    "        column_names=config['dataset_vars']['column_names']\n",
    "        )\n",
    "\n",
    "dataset_train = dataset['train'].select(range(1,501)) # remove first row that contains column names\n",
    "dataset_eval = dataset['validation'].select(range(1,501)) # remove first row that contains column names"
   ]
  },
  {
   "cell_type": "code",
   "execution_count": 4,
   "id": "2199406d-b326-48e9-a590-cc423542e1a2",
   "metadata": {
    "scrolled": true
   },
   "outputs": [],
   "source": [
    "relations_in_structerd_text = dataset_train[\"relations\"]\n",
    "entity_types = {\"chemical\":\"@CHEMICAL@\", \n",
    "                \"disease\":\"@DISEASE@\"}\n",
    "rel_types = {\"chemical induced disease\":\"@CID@\"}"
   ]
  },
  {
   "cell_type": "code",
   "execution_count": 5,
   "id": "38594e59-99b5-4f91-b0c4-8cddb0075d72",
   "metadata": {},
   "outputs": [
    {
     "data": {
      "text/plain": [
       "'alpha-methyldopa @CHEMICAL@ hypotensive @DISEASE@ @CID@'"
      ]
     },
     "execution_count": 5,
     "metadata": {},
     "output_type": "execute_result"
    }
   ],
   "source": [
    "# voorbeeld\n",
    "relations_in_structerd_text[0]"
   ]
  },
  {
   "cell_type": "markdown",
   "id": "1353441f-1dc1-4141-bfae-095b49ed36e4",
   "metadata": {},
   "source": [
    "## Extracting triples from structerd text"
   ]
  },
  {
   "cell_type": "code",
   "execution_count": 6,
   "id": "3adf88b2-baa4-48c6-83e7-62f80e7044f7",
   "metadata": {},
   "outputs": [],
   "source": [
    "def split_on_labels(input_text, labels):\n",
    "    # Escape labels to ensure special characters are treated as literals in regex\n",
    "    escaped_labels = [re.escape(label) for label in labels]\n",
    "    # Join the labels into a regex pattern with alternation to match any of them\n",
    "    pattern = '|'.join(escaped_labels)\n",
    "    # Use re.split() with the compiled pattern, keeping the delimiters in the result\n",
    "    relation_segments = re.split(f'({pattern})', input_text)\n",
    "    # Filter out empty strings that might result from splitting\n",
    "    relation_segments = [segment for segment in relation_segments if segment]\n",
    "    return relation_segments"
   ]
  },
  {
   "cell_type": "code",
   "execution_count": 7,
   "id": "4a350195-bdfc-478a-a7d1-e12c67626e4d",
   "metadata": {},
   "outputs": [],
   "source": [
    "def handle_coreforents(ent, keep):\n",
    "    coreferents = tuple([coref.strip() for coref in ent[0].split(';')])\n",
    "    if keep and len(coreferents) > 1:\n",
    "        return (coreferents, ent[1]) \n",
    "    else:\n",
    "        return (coreferents[0], ent[1])"
   ]
  },
  {
   "cell_type": "code",
   "execution_count": 8,
   "id": "593572c3-1c0f-4c20-9821-029428be65cb",
   "metadata": {},
   "outputs": [],
   "source": [
    "def extract_relation_triples(text: str, re_labels: list[str], keep_coreforents: bool = False) -> list[dict]:\n",
    "    '''\n",
    "    This function extracts the relationship triples out of structerd text. \n",
    "    This function assumes that the NER labels are in this structure: @label@\n",
    "    \n",
    "    input:\n",
    "    text: The structerd text as a string.\n",
    "    re_labels: The relationship labels.\n",
    "\n",
    "    returns:\n",
    "    A list of dictionaries\n",
    "    '''\n",
    "    # Split the input text into relation segments\n",
    "    relation_segments = split_on_labels(text, re_labels)\n",
    "    \n",
    "    # Remove the last empty segment if it exists\n",
    "    if not relation_segments[-1].strip():\n",
    "        relation_segments = relation_segments[:-1]\n",
    "\n",
    "    # Map relation label to entity text\n",
    "    entity_texts = relation_segments[::2] # All uneven elements\n",
    "    relation_labels = relation_segments[1::2] # All even elements\n",
    "    if len(entity_texts) != len(relation_labels):\n",
    "        msg.warn(f\" len entity text {len(entity_texts)} | {entity_texts}\")\n",
    "        msg.warn(f\" len relation labels {len(relation_labels)} | {relation_labels}\")\n",
    "        raise ValueError('Amount of relation labels in the text does not equal to amount of entities pairs')\n",
    "        \n",
    "    \n",
    "    # Initialize a list to hold the relation triples\n",
    "    relations = []\n",
    "    \n",
    "    for entity_text, re_label in zip(entity_texts, relation_labels):\n",
    "        # Split head and tail entities and their labels\n",
    "        head_ent, tail_ent = [handle_coreforents(ent, keep_coreforents) for ent in re.findall(r'(.+?)\\s@(\\w+)@', entity_text)]\n",
    "        # print(f\"head_ent {head_ent} | tail_ent {tail_ent}\") #DEBUG\n",
    "        \n",
    "        re_label = re_label.split('@')[1]\n",
    "        relations.append({\n",
    "            're_label':re_label,\n",
    "            'head_ent': {'label':head_ent[1], 'text':head_ent[0]},\n",
    "            'tail_ent': {'label':tail_ent[1], 'text':tail_ent[0]}\n",
    "        })\n",
    "    \n",
    "    return relations"
   ]
  },
  {
   "cell_type": "code",
   "execution_count": 9,
   "id": "53ee2b6b-c3e9-403f-bfd8-195529425512",
   "metadata": {},
   "outputs": [
    {
     "data": {
      "text/plain": [
       "[{'re_label': 'CID',\n",
       "  'head_ent': {'label': 'CHEMICAL', 'text': ('lithium', 'li')},\n",
       "  'tail_ent': {'label': 'DISEASE', 'text': 'chronic renal failure'}},\n",
       " {'re_label': 'CID',\n",
       "  'head_ent': {'label': 'CHEMICAL', 'text': ('lithium', 'li')},\n",
       "  'tail_ent': {'label': 'DISEASE', 'text': 'proteinuria'}},\n",
       " {'re_label': 'CID',\n",
       "  'head_ent': {'label': 'CHEMICAL', 'text': ('lithium', 'li')},\n",
       "  'tail_ent': {'label': 'DISEASE', 'text': 'hypertension'}}]"
      ]
     },
     "execution_count": 9,
     "metadata": {},
     "output_type": "execute_result"
    }
   ],
   "source": [
    "# Example usage\n",
    "input_text = 'lithium ; li @CHEMICAL@ chronic renal failure @DISEASE@ @CID@ lithium ; li @CHEMICAL@ proteinuria @DISEASE@ @CID@ lithium ; li @CHEMICAL@ hypertension @DISEASE@ @CID@'\n",
    "relation_triples = extract_relation_triples(input_text, ['@CID@'], True)\n",
    "relation_triples"
   ]
  },
  {
   "cell_type": "code",
   "execution_count": 10,
   "id": "53d6b3c0-7345-417c-8aae-689875657dab",
   "metadata": {},
   "outputs": [
    {
     "name": "stdout",
     "output_type": "stream",
     "text": [
      "CPU times: user 297 µs, sys: 4.41 ms, total: 4.7 ms\n",
      "Wall time: 4.71 ms\n"
     ]
    }
   ],
   "source": [
    "%%time\n",
    "relation_triples = [extract_relation_triples(i, ['@CID@']) for i in relations_in_structerd_text]"
   ]
  },
  {
   "cell_type": "code",
   "execution_count": 11,
   "id": "6ae8b50f-6984-44a6-beb8-ec80761c3dad",
   "metadata": {},
   "outputs": [
    {
     "data": {
      "text/html": [
       "<div>\n",
       "<style scoped>\n",
       "    .dataframe tbody tr th:only-of-type {\n",
       "        vertical-align: middle;\n",
       "    }\n",
       "\n",
       "    .dataframe tbody tr th {\n",
       "        vertical-align: top;\n",
       "    }\n",
       "\n",
       "    .dataframe thead th {\n",
       "        text-align: right;\n",
       "    }\n",
       "</style>\n",
       "<table border=\"1\" class=\"dataframe\">\n",
       "  <thead>\n",
       "    <tr style=\"text-align: right;\">\n",
       "      <th></th>\n",
       "      <th>structerd_text</th>\n",
       "      <th>Relation triples</th>\n",
       "    </tr>\n",
       "  </thead>\n",
       "  <tbody>\n",
       "    <tr>\n",
       "      <th>0</th>\n",
       "      <td>alpha-methyldopa @CHEMICAL@ hypotensive @DISEA...</td>\n",
       "      <td>[{'re_label': 'CID', 'head_ent': {'label': 'CH...</td>\n",
       "    </tr>\n",
       "    <tr>\n",
       "      <th>1</th>\n",
       "      <td>lidocaine @CHEMICAL@ cardiac asystole @DISEASE...</td>\n",
       "      <td>[{'re_label': 'CID', 'head_ent': {'label': 'CH...</td>\n",
       "    </tr>\n",
       "    <tr>\n",
       "      <th>2</th>\n",
       "      <td>suxamethonium ; suxamethonium chloride ; sch @...</td>\n",
       "      <td>[{'re_label': 'CID', 'head_ent': {'label': 'CH...</td>\n",
       "    </tr>\n",
       "    <tr>\n",
       "      <th>3</th>\n",
       "      <td>scopolamine ; hyoscine @CHEMICAL@ overdosage @...</td>\n",
       "      <td>[{'re_label': 'CID', 'head_ent': {'label': 'CH...</td>\n",
       "    </tr>\n",
       "    <tr>\n",
       "      <th>4</th>\n",
       "      <td>lithium ; li @CHEMICAL@ chronic renal failure ...</td>\n",
       "      <td>[{'re_label': 'CID', 'head_ent': {'label': 'CH...</td>\n",
       "    </tr>\n",
       "    <tr>\n",
       "      <th>...</th>\n",
       "      <td>...</td>\n",
       "      <td>...</td>\n",
       "    </tr>\n",
       "    <tr>\n",
       "      <th>495</th>\n",
       "      <td>zonisamide @CHEMICAL@ visual hallucinations @D...</td>\n",
       "      <td>[{'re_label': 'CID', 'head_ent': {'label': 'CH...</td>\n",
       "    </tr>\n",
       "    <tr>\n",
       "      <th>496</th>\n",
       "      <td>pan ; puromycin aminonucleoside @CHEMICAL@ nep...</td>\n",
       "      <td>[{'re_label': 'CID', 'head_ent': {'label': 'CH...</td>\n",
       "    </tr>\n",
       "    <tr>\n",
       "      <th>497</th>\n",
       "      <td>ticlopidine @CHEMICAL@ aplastic anemia @DISEAS...</td>\n",
       "      <td>[{'re_label': 'CID', 'head_ent': {'label': 'CH...</td>\n",
       "    </tr>\n",
       "    <tr>\n",
       "      <th>498</th>\n",
       "      <td>scopolamine @CHEMICAL@ amnesia @DISEASE@ @CID@...</td>\n",
       "      <td>[{'re_label': 'CID', 'head_ent': {'label': 'CH...</td>\n",
       "    </tr>\n",
       "    <tr>\n",
       "      <th>499</th>\n",
       "      <td>apomorphine @CHEMICAL@ hypothermia @DISEASE@ @...</td>\n",
       "      <td>[{'re_label': 'CID', 'head_ent': {'label': 'CH...</td>\n",
       "    </tr>\n",
       "  </tbody>\n",
       "</table>\n",
       "<p>500 rows × 2 columns</p>\n",
       "</div>"
      ],
      "text/plain": [
       "                                        structerd_text  \\\n",
       "0    alpha-methyldopa @CHEMICAL@ hypotensive @DISEA...   \n",
       "1    lidocaine @CHEMICAL@ cardiac asystole @DISEASE...   \n",
       "2    suxamethonium ; suxamethonium chloride ; sch @...   \n",
       "3    scopolamine ; hyoscine @CHEMICAL@ overdosage @...   \n",
       "4    lithium ; li @CHEMICAL@ chronic renal failure ...   \n",
       "..                                                 ...   \n",
       "495  zonisamide @CHEMICAL@ visual hallucinations @D...   \n",
       "496  pan ; puromycin aminonucleoside @CHEMICAL@ nep...   \n",
       "497  ticlopidine @CHEMICAL@ aplastic anemia @DISEAS...   \n",
       "498  scopolamine @CHEMICAL@ amnesia @DISEASE@ @CID@...   \n",
       "499  apomorphine @CHEMICAL@ hypothermia @DISEASE@ @...   \n",
       "\n",
       "                                      Relation triples  \n",
       "0    [{'re_label': 'CID', 'head_ent': {'label': 'CH...  \n",
       "1    [{'re_label': 'CID', 'head_ent': {'label': 'CH...  \n",
       "2    [{'re_label': 'CID', 'head_ent': {'label': 'CH...  \n",
       "3    [{'re_label': 'CID', 'head_ent': {'label': 'CH...  \n",
       "4    [{'re_label': 'CID', 'head_ent': {'label': 'CH...  \n",
       "..                                                 ...  \n",
       "495  [{'re_label': 'CID', 'head_ent': {'label': 'CH...  \n",
       "496  [{'re_label': 'CID', 'head_ent': {'label': 'CH...  \n",
       "497  [{'re_label': 'CID', 'head_ent': {'label': 'CH...  \n",
       "498  [{'re_label': 'CID', 'head_ent': {'label': 'CH...  \n",
       "499  [{'re_label': 'CID', 'head_ent': {'label': 'CH...  \n",
       "\n",
       "[500 rows x 2 columns]"
      ]
     },
     "execution_count": 11,
     "metadata": {},
     "output_type": "execute_result"
    }
   ],
   "source": [
    "pd.DataFrame({'structerd_text': relations_in_structerd_text, 'Relation triples': relation_triples})"
   ]
  },
  {
   "cell_type": "markdown",
   "id": "4b83bbbd-08d0-459a-b6bf-adb669239583",
   "metadata": {},
   "source": [
    "## Dealing with unstructured text"
   ]
  },
  {
   "cell_type": "markdown",
   "id": "982cba01-5ab8-40a4-8223-f018c5bc5708",
   "metadata": {},
   "source": [
    "### Load dataset of predicted output"
   ]
  },
  {
   "cell_type": "code",
   "execution_count": 12,
   "id": "2c4475f6-8d80-4b27-be50-95a3b1827a6a",
   "metadata": {},
   "outputs": [],
   "source": [
    "test_eval_dataset = load_dataset(\n",
    "        config['dataset_vars']['type'], \n",
    "        data_dir=\"data/testing_eval/cdr_seq2rel\",\n",
    "        data_files={'test_trained': 'test_trained.csv', 'test_untrained':'test_untrained.csv'},\n",
    "        column_names=[\"input\", \"expected output\", \"predicted\"]\n",
    "        )\n",
    "\n",
    "test_eval_dataset_trained = test_eval_dataset['test_trained'].select(range(1,501)) # remove first row that contains column names\n",
    "test_eval_dataset_untrained = test_eval_dataset['test_untrained'].select(range(1,501)) # remove first row that contains column names"
   ]
  },
  {
   "cell_type": "code",
   "execution_count": 13,
   "id": "2f3a6f40-d89a-4bf1-a0d8-93e62c9ba607",
   "metadata": {},
   "outputs": [
    {
     "name": "stdout",
     "output_type": "stream",
     "text": [
      "\u001b[38;5;4mℹ expected output:\u001b[0m\n",
      "phosphorus @CHEMICAL@ cholestatic ; cholestasis @DISEASE@ @CID@ phosphorus @CHEMICAL@ acute hepatitis @DISEASE@ @CID@ phosphorus @CHEMICAL@ acute liver failure @DISEASE@ @CID@\n",
      "\u001b[38;5;4mℹ predicted output:\u001b[0m\n",
      "yellow phosphorus ; yellow phosphorus @CHEMICAL@ cholestasis @DISEASE@ @CID@ yellow phosphorus ; yellow phosphorus @CHEMICAL@ hepatotoxicity ; hepatitis @DISEASE@ @CID@ yellow phosphorus ; yellow phosphorus @CHEMICAL@ fireworks @CHEMICAL@ cholestasis @DISEASE@ @CID@ yellow phosphorus ; yellow phosphorus @CHEMICAL@ cholestasis @DISEASE@ @CID@\n",
      "\n",
      "\n",
      "\u001b[38;5;3m⚠  len entity text 5 | ['lomustine ; ccnu @CHEMICAL@ neutropenia\n",
      "@DISEASE@ ', ' lomustine ; ccnu @CHEMICAL@ hemorrhagic @DISEASE@ ', ' lomustine\n",
      "; ccnu @CHEMICAL@ cystitis @DISEASE@ ', ' cyclophosphamide ; ctx @CHEMICAL@\n",
      "neutropenia @DISEASE@ ', ' cyclophosphamide ; cnu @CHEMICAL@ hemorhagicnu\n",
      "@CHEMICAL@ cystitis @']\u001b[0m\n",
      "\u001b[38;5;3m⚠  len relation labels 4 | ['@CID@', '@CID@', '@CID@', '@CID@']\u001b[0m\n",
      "\u001b[38;5;4mℹ expected output:\u001b[0m\n",
      "lomustine ; ccnu @CHEMICAL@ neutropenia @DISEASE@ @CID@ cyclophosphamide ; ctx @CHEMICAL@ neutropenia @DISEASE@ @CID@\n",
      "\u001b[38;5;4mℹ predicted output:\u001b[0m\n",
      "lomustine ; ccnu @CHEMICAL@ neutropenia @DISEASE@ @CID@ lomustine ; ccnu @CHEMICAL@ hemorrhagic @DISEASE@ @CID@ lomustine ; ccnu @CHEMICAL@ cystitis @DISEASE@ @CID@ cyclophosphamide ; ctx @CHEMICAL@ neutropenia @DISEASE@ @CID@ cyclophosphamide ; cnu @CHEMICAL@ hemorhagicnu @CHEMICAL@ cystitis @\n",
      "\n",
      "\n",
      "\u001b[38;5;3m⚠  len entity text 5 | ['fluocinolone acetonide intravitreal implant ;\n",
      "0.59 mg @CHEMICAL@ ocular inflammation @DISEASE@ ', ' fluocinolone acetonide\n",
      "intravitreal implant ; 0.59 mg @CHEMICAL@ retinal vasculitis @DISEASE@ ', '\n",
      "fluocinolone acetonide intravitreal implant ; 0.59 mg @CHEMICAL@ cataract\n",
      "@DISEASE@ ', ' fluocinolone retinochoroidopathy @DISEASE@ ', ' fluocinolone\n",
      "acetonide intravitreal implant ; 0.59 mg @CHEM']\u001b[0m\n",
      "\u001b[38;5;3m⚠  len relation labels 4 | ['@CID@', '@CID@', '@CID@', '@CID@']\u001b[0m\n",
      "\u001b[38;5;4mℹ expected output:\u001b[0m\n",
      "fluocinolone acetonide @CHEMICAL@ cataract @DISEASE@ @CID@ fluocinolone acetonide @CHEMICAL@ raised intraocular pressure ; increased intraocular pressure ; ocular hypertension @DISEASE@ @CID@\n",
      "\u001b[38;5;4mℹ predicted output:\u001b[0m\n",
      "fluocinolone acetonide intravitreal implant ; 0.59 mg @CHEMICAL@ ocular inflammation @DISEASE@ @CID@ fluocinolone acetonide intravitreal implant ; 0.59 mg @CHEMICAL@ retinal vasculitis @DISEASE@ @CID@ fluocinolone acetonide intravitreal implant ; 0.59 mg @CHEMICAL@ cataract @DISEASE@ @CID@ fluocinolone retinochoroidopathy @DISEASE@ @CID@ fluocinolone acetonide intravitreal implant ; 0.59 mg @CHEM\n",
      "\n",
      "\n",
      "\u001b[38;5;4mℹ expected output:\u001b[0m\n",
      "bacl2 @CHEMICAL@ arrhythmia @DISEASE@ @CID@ chloroform @CHEMICAL@ arrhythmia @DISEASE@ @CID@ adrenaline @CHEMICAL@ arrhythmia @DISEASE@ @CID@ strophantine g @CHEMICAL@ arrhythmia @DISEASE@ @CID@ aconitine @CHEMICAL@ arrhythmia @DISEASE@ @CID@\n",
      "\u001b[38;5;4mℹ predicted output:\u001b[0m\n",
      "chloroform-adrenaline @CHEMICAL@ arrhythmia @DISEASE@ @CID@ chloroform-adrenaline @CHEMICAL@ 4-tetrahydroanaphthalene @CHEMICAL@ arrhythmia @DISEASE@ @CID@ strophantine g @CHEMICAL@ arrhythmia @DISEASE@ @CID@\n",
      "\n",
      "\n",
      "\u001b[38;5;4mℹ expected output:\u001b[0m\n",
      "levetiracetam @CHEMICAL@ lethargy @DISEASE@ @CID@\n",
      "\u001b[38;5;4mℹ predicted output:\u001b[0m\n",
      "lethargy @DISEASE@ @CID@ levetiracetam @CHEMICAL@ inappetence @DISEASE@ @CID@\n",
      "\n",
      "\n",
      "\u001b[38;5;4mℹ expected output:\u001b[0m\n",
      "androgen ; androgens @CHEMICAL@ hepatocellular carcinoma @DISEASE@ @CID@ androgen ; androgens @CHEMICAL@ peliosis @DISEASE@ @CID@ corticosteroid ; corticosteroids @CHEMICAL@ hepatocellular carcinoma @DISEASE@ @CID@ corticosteroid ; corticosteroids @CHEMICAL@ peliosis @DISEASE@ @CID@\n",
      "\u001b[38;5;4mℹ predicted output:\u001b[0m\n",
      "fanconi's anemia @DISEASE@ @CID@ fanconi's anemia @DISEASE@ @CID@\n",
      "\n",
      "\n",
      "\u001b[38;5;3m⚠  len entity text 6 | ['cisplatin ; cdp @CHEMICAL@ hypotension\n",
      "@DISEASE@ ', ' cisplatin ; cdp @CHEMICAL@ cardiotoxicity ; cardiotoxicity\n",
      "@DISEASE@ ', ' cisplatin ; cdp @CHEMICAL@ colorectal carcinoma @DISEASE@ ', '\n",
      "cisplatin ; cdp @CHEMICAL@ hypotension @DISEASE@ ', ' 5-fluorouracil ; 5-FU\n",
      "@CHEMICAL@ cardiotoxicity @DISEASE@ ', ' 5-fluorouracil ; 5-FU @']\u001b[0m\n",
      "\u001b[38;5;3m⚠  len relation labels 5 | ['@CID@', '@CID@', '@CID@', '@CID@',\n",
      "'@CID@']\u001b[0m\n",
      "\u001b[38;5;4mℹ expected output:\u001b[0m\n",
      "cisplatin ; cddp @CHEMICAL@ hypotension @DISEASE@ @CID@ cisplatin ; cddp @CHEMICAL@ left ventricular dysfunction @DISEASE@ @CID@ 5-fluorouracil ; 5-fu @CHEMICAL@ hypotension @DISEASE@ @CID@ 5-fluorouracil ; 5-fu @CHEMICAL@ left ventricular dysfunction @DISEASE@ @CID@\n",
      "\u001b[38;5;4mℹ predicted output:\u001b[0m\n",
      "cisplatin ; cdp @CHEMICAL@ hypotension @DISEASE@ @CID@ cisplatin ; cdp @CHEMICAL@ cardiotoxicity ; cardiotoxicity @DISEASE@ @CID@ cisplatin ; cdp @CHEMICAL@ colorectal carcinoma @DISEASE@ @CID@ cisplatin ; cdp @CHEMICAL@ hypotension @DISEASE@ @CID@ 5-fluorouracil ; 5-FU @CHEMICAL@ cardiotoxicity @DISEASE@ @CID@ 5-fluorouracil ; 5-FU @\n",
      "\n",
      "\n",
      "\u001b[38;5;3m⚠  len entity text 5 | ['flurazepam ; fzp @CHEMICAL@ convulsions ;\n",
      "convuls @DISEASE@ ', ' flurazepam ; fzp @CHEMICAL@ excessive salivation\n",
      "@DISEASE@ ', ' flurazepam ; fzp @CHEMICAL@ apprehensive behavior @DISEASE@ ', '\n",
      "flurazepam ; fzp @CHEMICAL@ muscle tremors ; convulsions @DISEASE@ ', '\n",
      "pentylenetetrazol ; ptz @CHEMICAL@ convulsions']\u001b[0m\n",
      "\u001b[38;5;3m⚠  len relation labels 4 | ['@CID@', '@CID@', '@CID@', '@CID@']\u001b[0m\n",
      "\u001b[38;5;4mℹ expected output:\u001b[0m\n",
      "flurazepam ; fzp @CHEMICAL@ convulsions @DISEASE@ @CID@ pentylenetetrazol ; ptz @CHEMICAL@ convulsions @DISEASE@ @CID@\n",
      "\u001b[38;5;4mℹ predicted output:\u001b[0m\n",
      "flurazepam ; fzp @CHEMICAL@ convulsions ; convuls @DISEASE@ @CID@ flurazepam ; fzp @CHEMICAL@ excessive salivation @DISEASE@ @CID@ flurazepam ; fzp @CHEMICAL@ apprehensive behavior @DISEASE@ @CID@ flurazepam ; fzp @CHEMICAL@ muscle tremors ; convulsions @DISEASE@ @CID@ pentylenetetrazol ; ptz @CHEMICAL@ convulsions\n",
      "\n",
      "\n",
      "\u001b[38;5;4mℹ expected output:\u001b[0m\n",
      "suxamethonium ; scoline @CHEMICAL@ pains ; pain @DISEASE@ @CID@ suxamethonium ; scoline @CHEMICAL@ fasciculations @DISEASE@ @CID@\n",
      "\u001b[38;5;4mℹ predicted output:\u001b[0m\n",
      "scoline pain @DISEASE@ @CID@\n",
      "\n",
      "\n",
      "\u001b[38;5;3m⚠  len entity text 3 | ['trimethoprim-sulfamethoxazole ; tmp-smz\n",
      "@CHEMICAL@ liver, blood, skin, renal disorders @DISEASE@ ', '\n",
      "trimethoprim-sulfamethoxazole ; tmp-smz @CHEMICAL@ erythema multiforme @DISEASE@\n",
      "', ' trimethoprim-sulfamethoxazole ;\n",
      "tmp-s-sulfamethoprim-sulfamethoprim-sulfamethoxazole ; tmp-']\u001b[0m\n",
      "\u001b[38;5;3m⚠  len relation labels 2 | ['@CID@', '@CID@']\u001b[0m\n",
      "\u001b[38;5;4mℹ expected output:\u001b[0m\n",
      "trimethoprim-sulfamethoxazole ; tmp-smz @CHEMICAL@ liver disorders ; liver disease @DISEASE@ @CID@ trimethoprim-sulfamethoxazole ; tmp-smz @CHEMICAL@ stevens-johnson syndrome ; toxic epidermal necrolysis @DISEASE@ @CID@ trimethoprim @CHEMICAL@ liver disorders ; liver disease @DISEASE@ @CID@ cephalexin @CHEMICAL@ liver disorders ; liver disease @DISEASE@ @CID@ cephalexin @CHEMICAL@ stevens-johnson syndrome ; toxic epidermal necrolysis @DISEASE@ @CID@\n",
      "\u001b[38;5;4mℹ predicted output:\u001b[0m\n",
      "trimethoprim-sulfamethoxazole ; tmp-smz @CHEMICAL@ liver, blood, skin, renal disorders @DISEASE@ @CID@ trimethoprim-sulfamethoxazole ; tmp-smz @CHEMICAL@ erythema multiforme @DISEASE@ @CID@ trimethoprim-sulfamethoxazole ; tmp-s-sulfamethoprim-sulfamethoprim-sulfamethoxazole ; tmp-\n",
      "\n",
      "\n",
      "\u001b[38;5;4mℹ expected output:\u001b[0m\n",
      "aracytine-c ; ara-c @CHEMICAL@ pulmonary edema @DISEASE@ @CID@ aracytine-c ; ara-c @CHEMICAL@ shock @DISEASE@ @CID@ aracytine-c ; ara-c @CHEMICAL@ fever @DISEASE@ @CID@ aracytine-c ; ara-c @CHEMICAL@ diarrhea @DISEASE@ @CID@ aracytine-c ; ara-c @CHEMICAL@ acute renal failure @DISEASE@ @CID@ aracytine-c ; ara-c @CHEMICAL@ metabolic acidosis @DISEASE@ @CID@ aracytine-c ; ara-c @CHEMICAL@ weight gain @DISEASE@ @CID@ aracytine-c ; ara-c @CHEMICAL@ leukocytosis @DISEASE@ @CID@\n",
      "\u001b[38;5;4mℹ predicted output:\u001b[0m\n",
      "aracytine-c @CHEMICAL@ pulmonary edema @DISEASE@ @CID@ aracytine-c @CHEMICAL@ fever @DISEASE@ @CID@ aracytine-c @CHEMICAL@ diarrhea @DISEASE@ @CID@ aracytine-c @CHEMICAL@ shock @DISEASE@ @CID@ aracytine-c @CHEMICAL@ pulmonary edema @DISEASE@ @CID@ metabolic acidosis @DISEASE@ @CID@\n",
      "\n",
      "\n",
      "\u001b[38;5;4mℹ expected output:\u001b[0m\n",
      "amitriptyline @CHEMICAL@ encephalopathy @DISEASE@ @CID@\n",
      "\u001b[38;5;4mℹ predicted output:\u001b[0m\n",
      "amitriptyline @CHEMICAL@ encephalopathy @DISEASE@ @CID@ amitriptyline @CHEMICAL@ unipolar depression @DISEASE@ @CID@ amitriptyline @CHEMICAL@ neuroleptic malignant syndrome ; nms @DISEASE@ @CID@ serotonin syndrome ; ss @DISEASE@ @CID@\n",
      "\n",
      "\n",
      "\u001b[38;5;4mℹ expected output:\u001b[0m\n",
      "paclitaxel ; taxol @CHEMICAL@ neutropenia @DISEASE@ @CID@ 5-fluorouracil @CHEMICAL@ neutropenia @DISEASE@ @CID@ folinic acid @CHEMICAL@ neutropenia @DISEASE@ @CID@\n",
      "\u001b[38;5;4mℹ predicted output:\u001b[0m\n",
      "doxorubicin @CHEMICAL@ neutropenia @DISEASE@ @CID@ doxorubicin @CHEMICAL@ 5-fluorouracil @CHEMICAL@ neutropenia @DISEASE@ @CID@ folinic acid @CHEMICAL@ neutropenia @DISEASE@ @CID@ folinic acid @CHEMICAL@ neutropenia @DISEASE@ @CID@\n",
      "\n",
      "\n",
      "\u001b[38;5;4mℹ expected output:\u001b[0m\n",
      "fenfluramine ; fenfluramines @CHEMICAL@ pulmonary hypertension ; primary pulmonary hypertension ; pph @DISEASE@ @CID@\n",
      "\u001b[38;5;4mℹ predicted output:\u001b[0m\n",
      "fenfluramine ; antidepressants @CHEMICAL@ primary pulmonary hypertension ; php @DISEASE@ @CID@ fenfluramine ; antidepressants @CHEMICAL@ amphetamines @CHEMICAL@ primary pulmonary hypertension ; php @DISEASE@ @CID@\n",
      "\n",
      "\n",
      "\u001b[38;5;3m⚠  len entity text 8 | ['carboplatin @CHEMICAL@ neutropenia @DISEASE@\n",
      "', ' carboplatin @CHEMICAL@ anemia @DISEASE@ ', ' carboplatin @CHEMICAL@\n",
      "neutropenic fever @DISEASE@ ', ' carboplatin @CHEMICAL@ nausea @DISEASE@ ', '\n",
      "carboplatin @CHEMICAL@ emesis @DISEASE@ ', ' carboplatin @CHEMICAL@\n",
      "thrombocytopenia @DISEASE@ ', ' carboplatin @CHEMICAL@ nausea @DISEASE@ ', '\n",
      "carboplatin']\u001b[0m\n",
      "\u001b[38;5;3m⚠  len relation labels 7 | ['@CID@', '@CID@', '@CID@', '@CID@',\n",
      "'@CID@', '@CID@', '@CID@']\u001b[0m\n",
      "\u001b[38;5;4mℹ expected output:\u001b[0m\n",
      "carboplatin @CHEMICAL@ neutropenia ; neutropenic @DISEASE@ @CID@ carboplatin @CHEMICAL@ anemia @DISEASE@ @CID@ carboplatin @CHEMICAL@ thrombocytopenia @DISEASE@ @CID@ carboplatin @CHEMICAL@ nausea @DISEASE@ @CID@ carboplatin @CHEMICAL@ emesis @DISEASE@ @CID@ carboplatin @CHEMICAL@ fatigue @DISEASE@ @CID@ carboplatin @CHEMICAL@ mucositis @DISEASE@ @CID@ carboplatin @CHEMICAL@ constipation @DISEASE@ @CID@ carboplatin @CHEMICAL@ weight loss @DISEASE@ @CID@ carboplatin @CHEMICAL@ skin reactions @DISEASE@ @CID@ doxorubicin ; doxil @CHEMICAL@ neutropenia ; neutropenic @DISEASE@ @CID@ doxorubicin ; doxil @CHEMICAL@ anemia @DISEASE@ @CID@ doxorubicin ; doxil @CHEMICAL@ thrombocytopenia @DISEASE@ @CID@ doxorubicin ; doxil @CHEMICAL@ nausea @DISEASE@ @CID@ doxorubicin ; doxil @CHEMICAL@ emesis @DISEASE@ @CID@ doxorubicin ; doxil @CHEMICAL@ fatigue @DISEASE@ @CID@ doxorubicin ; doxil @CHEMICAL@ mucositis @DISEASE@ @CID@ doxorubicin ; doxil @CHEMICAL@ constipation @DISEASE@ @CID@ doxorubicin ; doxil @CHEMICAL@ weight loss @DISEASE@ @CID@ doxorubicin ; doxil @CHEMICAL@ skin reactions @DISEASE@ @CID@\n",
      "\u001b[38;5;4mℹ predicted output:\u001b[0m\n",
      "carboplatin @CHEMICAL@ neutropenia @DISEASE@ @CID@ carboplatin @CHEMICAL@ anemia @DISEASE@ @CID@ carboplatin @CHEMICAL@ neutropenic fever @DISEASE@ @CID@ carboplatin @CHEMICAL@ nausea @DISEASE@ @CID@ carboplatin @CHEMICAL@ emesis @DISEASE@ @CID@ carboplatin @CHEMICAL@ thrombocytopenia @DISEASE@ @CID@ carboplatin @CHEMICAL@ nausea @DISEASE@ @CID@ carboplatin\n",
      "\n",
      "\n",
      "\u001b[38;5;4mℹ expected output:\u001b[0m\n",
      "glycopyrrolate @CHEMICAL@ sore throat @DISEASE@ @CID@ glycopyrrolate @CHEMICAL@ headache @DISEASE@ @CID@\n",
      "\u001b[38;5;4mℹ predicted output:\u001b[0m\n",
      "a mildly dry mouth @DISEASE@ @CID@ a sore throat @DISEASE@ @CID@ a headache @DISEASE@ @CID@\n",
      "\n",
      "\n",
      "\u001b[38;5;3m⚠  len entity text 5 | ['ht ; oestrogens with or without progestogens\n",
      "@CHEMICAL@ venous thromboembolism @DISEASE@ ', ' ht ; oestrogens with or without\n",
      "progestogens @CHEMICAL@ coronary event @DISEASE@ ', ' ht ; oestrogens with or\n",
      "without progestogens @CHEMICAL@ breast cancer @DISEASE@ ', ' ht ; oestrogens\n",
      "@CHEMICAL@ ovarian cancer @DISEASE@ ', ' ht ; oestrogen']\u001b[0m\n",
      "\u001b[38;5;3m⚠  len relation labels 4 | ['@CID@', '@CID@', '@CID@', '@CID@']\u001b[0m\n",
      "\u001b[38;5;4mℹ expected output:\u001b[0m\n",
      "oestrogens ; oestrogen @CHEMICAL@ cardiovascular disease @DISEASE@ @CID@ oestrogens ; oestrogen @CHEMICAL@ dementia @DISEASE@ @CID@ oestrogens ; oestrogen @CHEMICAL@ venous thromboembolism @DISEASE@ @CID@ oestrogens ; oestrogen @CHEMICAL@ stroke @DISEASE@ @CID@ oestrogens ; oestrogen @CHEMICAL@ breast cancer @DISEASE@ @CID@ oestrogens ; oestrogen @CHEMICAL@ gallbladder disease @DISEASE@ @CID@ progestogens @CHEMICAL@ cardiovascular disease @DISEASE@ @CID@ progestogens @CHEMICAL@ dementia @DISEASE@ @CID@ progestogens @CHEMICAL@ venous thromboembolism @DISEASE@ @CID@ progestogens @CHEMICAL@ stroke @DISEASE@ @CID@ progestogens @CHEMICAL@ breast cancer @DISEASE@ @CID@ progestogens @CHEMICAL@ gallbladder disease @DISEASE@ @CID@\n",
      "\u001b[38;5;4mℹ predicted output:\u001b[0m\n",
      "ht ; oestrogens with or without progestogens @CHEMICAL@ venous thromboembolism @DISEASE@ @CID@ ht ; oestrogens with or without progestogens @CHEMICAL@ coronary event @DISEASE@ @CID@ ht ; oestrogens with or without progestogens @CHEMICAL@ breast cancer @DISEASE@ @CID@ ht ; oestrogens @CHEMICAL@ ovarian cancer @DISEASE@ @CID@ ht ; oestrogen\n",
      "\n",
      "\n",
      "\u001b[38;5;4mℹ expected output:\u001b[0m\n",
      "ifosfamide ; ifo @CHEMICAL@ nephropathy ; renal damage @DISEASE@ @CID@\n",
      "\u001b[38;5;4mℹ predicted output:\u001b[0m\n",
      "ifosfamide ; ifosfamide @CHEMICAL@ renal damage ; nephropathy @DISEASE@ @CID@ ifosfamide ; ifosfamide @CHEMICAL@ protein @CHEMICAL@ nephropathy @DISEASE@ @CID@\n",
      "\n",
      "\n",
      "\u001b[38;5;3m⚠  len entity text 8 | ['quinine @CHEMICAL@ premature ventricular\n",
      "contraction ; pvc @DISEASE@ ', ' quinine @CHEMICAL@ fever @DISEASE@ ', ' quinine\n",
      "@CHEMICAL@ chill @DISEASE@ ', ' quinine @CHEMICAL@ vomiting @DISEASE@ ', '\n",
      "quinine @CHEMICAL@ jaundice @DISEASE@ ', ' quinine @CHEMICAL@ fever @DISEASE@ ',\n",
      "' quinine @CHEMICAL@ diarrhea @DISEASE@ ', ' quinine @CHEMICAL@ loss of hearing\n",
      "@DISEASE']\u001b[0m\n",
      "\u001b[38;5;3m⚠  len relation labels 7 | ['@CID@', '@CID@', '@CID@', '@CID@',\n",
      "'@CID@', '@CID@', '@CID@']\u001b[0m\n",
      "\u001b[38;5;4mℹ expected output:\u001b[0m\n",
      "quinine @CHEMICAL@ premature ventricular contraction ; pvc @DISEASE@ @CID@\n",
      "\u001b[38;5;4mℹ predicted output:\u001b[0m\n",
      "quinine @CHEMICAL@ premature ventricular contraction ; pvc @DISEASE@ @CID@ quinine @CHEMICAL@ fever @DISEASE@ @CID@ quinine @CHEMICAL@ chill @DISEASE@ @CID@ quinine @CHEMICAL@ vomiting @DISEASE@ @CID@ quinine @CHEMICAL@ jaundice @DISEASE@ @CID@ quinine @CHEMICAL@ fever @DISEASE@ @CID@ quinine @CHEMICAL@ diarrhea @DISEASE@ @CID@ quinine @CHEMICAL@ loss of hearing @DISEASE\n",
      "\n",
      "\n",
      "\u001b[38;5;4mℹ expected output:\u001b[0m\n",
      "5-fluorouracil ; 5-fu @CHEMICAL@ memory deficits @DISEASE@ @CID@\n",
      "\u001b[38;5;4mℹ predicted output:\u001b[0m\n",
      "5-fluorouracil ; 5-fu @CHEMICAL@ memory deficits ; deteriorations in cognition ; deficits in 5-fu @CHEMICAL@ reduction in freezing time @DISEASE@ @CID@\n",
      "\n",
      "\n",
      "\u001b[38;5;4mℹ expected output:\u001b[0m\n",
      "lindane @CHEMICAL@ convulsions ; convulsion ; convulsive ; seizures @DISEASE@ @CID@\n",
      "\u001b[38;5;4mℹ predicted output:\u001b[0m\n",
      "lindane @CHEMICAL@ convulsions ; convulsive @DISEASE@ @CID@ lindane @CHEMICAL@ pesticide ; pesticide @CHEMICAL@ convulsions ; convulsive @DISEASE@ @CID@ lindane @CHEMICAL@ epilepsy ; convulsive @DISEASE@ @CID@\n",
      "\n",
      "\n"
     ]
    }
   ],
   "source": [
    "re_labels = ['@CID@']\n",
    "for i in test_eval_dataset_trained:\n",
    "    text = i['predicted']\n",
    "    try:\n",
    "        extract_relation_triples(text, re_labels)\n",
    "    except ValueError:\n",
    "        msg.info(\"expected output:\")\n",
    "        print(i[\"expected output\"])\n",
    "        msg.info(\"predicted output:\")\n",
    "        print(text)\n",
    "        print('\\n')"
   ]
  },
  {
   "cell_type": "markdown",
   "id": "ac43d54b-e897-4461-ac4b-2f459d6b36b7",
   "metadata": {},
   "source": [
    "### Changing `extract_relation_triples()` to deal with unstructured text"
   ]
  },
  {
   "cell_type": "code",
   "execution_count": 14,
   "id": "3afd1af2-28c4-4242-ba96-3d691c9c7298",
   "metadata": {},
   "outputs": [],
   "source": [
    "def extract_relation_triples(text: str, ner_labels: list[str], re_labels: list[str], keep_coreforents: bool = False) -> list[dict]:\n",
    "    '''\n",
    "    This function extracts the relationship triples out of structerd text. \n",
    "    This function assumes that the NER labels are in this structure: @label@\n",
    "    \n",
    "    input:\n",
    "    text: The structerd text as a string.\n",
    "    re_labels: The relationship labels.\n",
    "\n",
    "    returns:\n",
    "    A list of dictionaries\n",
    "    '''\n",
    "    ##### Check if text is structered #####\n",
    "    split_on_space_text = text.split(\" \")\n",
    "    \n",
    "    # check if text ends with a relation label\n",
    "    if split_on_space_text[-1] not in re_labels:\n",
    "        raise ValueError(f\"Text is unstructured: '{text}'\\nText should end with a relationship label found in re_labels: {re_labels}.\\n\")\n",
    "        \n",
    "    # Check if text has atleast two entity labels and one relation label\n",
    "    count_ner_labels = sum([split_on_space_text.count(label) for label in ner_labels])\n",
    "    count_re_labels = sum([split_on_space_text.count(label) for label in re_labels])\n",
    "    if count_ner_labels < 2 or count_re_labels < 1:\n",
    "        raise ValueError(f\"Text is unstructured: '{text}'\\nText should have atleast 2 ner_labels: {ner_labels} and 1 re_label: {re_labels} to make a relationship.\\n\")\n",
    "        \n",
    "    # Check if text has the right amount of entity and relation labels\n",
    "    if count_re_labels*2 != count_ner_labels:\n",
    "        raise ValueError(f\"Text is unstructured: '{text}'\\nText should have 2 times the ner_labels: {ner_labels} then there are re_label: {re_labels}. currently: ner labels: {count_ner_labels} | re labels: {count_re_labels}\\n\")\n",
    "    \n",
    "    ##### Extracting relation triples #####\n",
    "    # Split the input text into relation segments\n",
    "    relation_segments = split_on_labels(text, re_labels)\n",
    "    \n",
    "    # Remove the last empty segment if it exists\n",
    "    if not relation_segments[-1].strip():\n",
    "        relation_segments = relation_segments[:-1]\n",
    "\n",
    "    # Map relation label to entity text\n",
    "    entity_texts = relation_segments[::2] # All uneven elements\n",
    "    relation_labels = relation_segments[1::2] # All even elements\n",
    "        \n",
    "    # Initialize a list to hold the relation triples\n",
    "    relations = []\n",
    "    \n",
    "    for entity_text, re_label in zip(entity_texts, relation_labels):\n",
    "        # Split head and tail entities and their labels\n",
    "        head_ent, tail_ent = [handle_coreforents(ent, keep_coreforents) for ent in re.findall(r'(.+?)\\s@(\\w+)@', entity_text)]\n",
    "        # print(f\"head_ent {head_ent} | tail_ent {tail_ent}\") #DEBUG\n",
    "        \n",
    "        re_label = re_label.split('@')[1]\n",
    "        relations.append({\n",
    "            're_label':re_label,\n",
    "            'head_ent': {'label':head_ent[1], 'text':head_ent[0]},\n",
    "            'tail_ent': {'label':tail_ent[1], 'text':tail_ent[0]}\n",
    "        })\n",
    "    \n",
    "    return relations"
   ]
  },
  {
   "cell_type": "code",
   "execution_count": 15,
   "id": "692dcf56-4a4f-4ae4-ba12-233de792dba5",
   "metadata": {},
   "outputs": [
    {
     "name": "stdout",
     "output_type": "stream",
     "text": [
      "Text is unstructered: 'yellow phosphorus ; yellow phosphorus @CHEMICAL@ cholestasis @DISEASE@ @CID@ yellow phosphorus ; yellow phosphorus @CHEMICAL@ hepatotoxicity ; hepatitis @DISEASE@ @CID@ yellow phosphorus ; yellow phosphorus @CHEMICAL@ fireworks @CHEMICAL@ cholestasis @DISEASE@ @CID@ yellow phosphorus ; yellow phosphorus @CHEMICAL@ cholestasis @DISEASE@ @CID@'\n",
      "Text should have 2 times the ner_labels: ['@CHEMICAL@', '@DISEASE@'] then there are re_label: ['@CID@']. currently: ner labels: 9 | re labels: 4\n",
      "\n",
      "Text is unstructered: 'lomustine ; ccnu @CHEMICAL@ neutropenia @DISEASE@ @CID@ lomustine ; ccnu @CHEMICAL@ hemorrhagic @DISEASE@ @CID@ lomustine ; ccnu @CHEMICAL@ cystitis @DISEASE@ @CID@ cyclophosphamide ; ctx @CHEMICAL@ neutropenia @DISEASE@ @CID@ cyclophosphamide ; cnu @CHEMICAL@ hemorhagicnu @CHEMICAL@ cystitis @'\n",
      "Text should end with a relationship label found in re_labels: ['@CID@'].\n",
      "\n",
      "Text is unstructered: 'fluocinolone acetonide intravitreal implant ; 0.59 mg @CHEMICAL@ ocular inflammation @DISEASE@ @CID@ fluocinolone acetonide intravitreal implant ; 0.59 mg @CHEMICAL@ retinal vasculitis @DISEASE@ @CID@ fluocinolone acetonide intravitreal implant ; 0.59 mg @CHEMICAL@ cataract @DISEASE@ @CID@ fluocinolone retinochoroidopathy @DISEASE@ @CID@ fluocinolone acetonide intravitreal implant ; 0.59 mg @CHEM'\n",
      "Text should end with a relationship label found in re_labels: ['@CID@'].\n",
      "\n",
      "Text is unstructered: 'chloroform-adrenaline @CHEMICAL@ arrhythmia @DISEASE@ @CID@ chloroform-adrenaline @CHEMICAL@ 4-tetrahydroanaphthalene @CHEMICAL@ arrhythmia @DISEASE@ @CID@ strophantine g @CHEMICAL@ arrhythmia @DISEASE@ @CID@'\n",
      "Text should have 2 times the ner_labels: ['@CHEMICAL@', '@DISEASE@'] then there are re_label: ['@CID@']. currently: ner labels: 7 | re labels: 3\n",
      "\n",
      "Text is unstructered: 'lethargy @DISEASE@ @CID@ levetiracetam @CHEMICAL@ inappetence @DISEASE@ @CID@'\n",
      "Text should have 2 times the ner_labels: ['@CHEMICAL@', '@DISEASE@'] then there are re_label: ['@CID@']. currently: ner labels: 3 | re labels: 2\n",
      "\n",
      "Text is unstructered: 'fanconi's anemia @DISEASE@ @CID@ fanconi's anemia @DISEASE@ @CID@'\n",
      "Text should have 2 times the ner_labels: ['@CHEMICAL@', '@DISEASE@'] then there are re_label: ['@CID@']. currently: ner labels: 2 | re labels: 2\n",
      "\n",
      "Text is unstructered: 'cisplatin ; cdp @CHEMICAL@ hypotension @DISEASE@ @CID@ cisplatin ; cdp @CHEMICAL@ cardiotoxicity ; cardiotoxicity @DISEASE@ @CID@ cisplatin ; cdp @CHEMICAL@ colorectal carcinoma @DISEASE@ @CID@ cisplatin ; cdp @CHEMICAL@ hypotension @DISEASE@ @CID@ 5-fluorouracil ; 5-FU @CHEMICAL@ cardiotoxicity @DISEASE@ @CID@ 5-fluorouracil ; 5-FU @'\n",
      "Text should end with a relationship label found in re_labels: ['@CID@'].\n",
      "\n",
      "Text is unstructered: 'flurazepam ; fzp @CHEMICAL@ convulsions ; convuls @DISEASE@ @CID@ flurazepam ; fzp @CHEMICAL@ excessive salivation @DISEASE@ @CID@ flurazepam ; fzp @CHEMICAL@ apprehensive behavior @DISEASE@ @CID@ flurazepam ; fzp @CHEMICAL@ muscle tremors ; convulsions @DISEASE@ @CID@ pentylenetetrazol ; ptz @CHEMICAL@ convulsions'\n",
      "Text should end with a relationship label found in re_labels: ['@CID@'].\n",
      "\n",
      "Text is unstructered: 'scoline pain @DISEASE@ @CID@'\n",
      "Text should have atleast 2 ner_labels: ['@CHEMICAL@', '@DISEASE@'] and 1 re_label: ['@CID@'] to make a relationship.\n",
      "\n",
      "Text is unstructered: 'trimethoprim-sulfamethoxazole ; tmp-smz @CHEMICAL@ liver, blood, skin, renal disorders @DISEASE@ @CID@ trimethoprim-sulfamethoxazole ; tmp-smz @CHEMICAL@ erythema multiforme @DISEASE@ @CID@ trimethoprim-sulfamethoxazole ; tmp-s-sulfamethoprim-sulfamethoprim-sulfamethoxazole ; tmp-'\n",
      "Text should end with a relationship label found in re_labels: ['@CID@'].\n",
      "\n",
      "Text is unstructered: 'aracytine-c @CHEMICAL@ pulmonary edema @DISEASE@ @CID@ aracytine-c @CHEMICAL@ fever @DISEASE@ @CID@ aracytine-c @CHEMICAL@ diarrhea @DISEASE@ @CID@ aracytine-c @CHEMICAL@ shock @DISEASE@ @CID@ aracytine-c @CHEMICAL@ pulmonary edema @DISEASE@ @CID@ metabolic acidosis @DISEASE@ @CID@'\n",
      "Text should have 2 times the ner_labels: ['@CHEMICAL@', '@DISEASE@'] then there are re_label: ['@CID@']. currently: ner labels: 11 | re labels: 6\n",
      "\n",
      "Text is unstructered: 'amitriptyline @CHEMICAL@ encephalopathy @DISEASE@ @CID@ amitriptyline @CHEMICAL@ unipolar depression @DISEASE@ @CID@ amitriptyline @CHEMICAL@ neuroleptic malignant syndrome ; nms @DISEASE@ @CID@ serotonin syndrome ; ss @DISEASE@ @CID@'\n",
      "Text should have 2 times the ner_labels: ['@CHEMICAL@', '@DISEASE@'] then there are re_label: ['@CID@']. currently: ner labels: 7 | re labels: 4\n",
      "\n",
      "Text is unstructered: 'doxorubicin @CHEMICAL@ neutropenia @DISEASE@ @CID@ doxorubicin @CHEMICAL@ 5-fluorouracil @CHEMICAL@ neutropenia @DISEASE@ @CID@ folinic acid @CHEMICAL@ neutropenia @DISEASE@ @CID@ folinic acid @CHEMICAL@ neutropenia @DISEASE@ @CID@'\n",
      "Text should have 2 times the ner_labels: ['@CHEMICAL@', '@DISEASE@'] then there are re_label: ['@CID@']. currently: ner labels: 9 | re labels: 4\n",
      "\n",
      "Text is unstructered: 'fenfluramine ; antidepressants @CHEMICAL@ primary pulmonary hypertension ; php @DISEASE@ @CID@ fenfluramine ; antidepressants @CHEMICAL@ amphetamines @CHEMICAL@ primary pulmonary hypertension ; php @DISEASE@ @CID@'\n",
      "Text should have 2 times the ner_labels: ['@CHEMICAL@', '@DISEASE@'] then there are re_label: ['@CID@']. currently: ner labels: 5 | re labels: 2\n",
      "\n",
      "Text is unstructered: 'carboplatin @CHEMICAL@ neutropenia @DISEASE@ @CID@ carboplatin @CHEMICAL@ anemia @DISEASE@ @CID@ carboplatin @CHEMICAL@ neutropenic fever @DISEASE@ @CID@ carboplatin @CHEMICAL@ nausea @DISEASE@ @CID@ carboplatin @CHEMICAL@ emesis @DISEASE@ @CID@ carboplatin @CHEMICAL@ thrombocytopenia @DISEASE@ @CID@ carboplatin @CHEMICAL@ nausea @DISEASE@ @CID@ carboplatin'\n",
      "Text should end with a relationship label found in re_labels: ['@CID@'].\n",
      "\n",
      "Text is unstructered: 'a mildly dry mouth @DISEASE@ @CID@ a sore throat @DISEASE@ @CID@ a headache @DISEASE@ @CID@'\n",
      "Text should have 2 times the ner_labels: ['@CHEMICAL@', '@DISEASE@'] then there are re_label: ['@CID@']. currently: ner labels: 3 | re labels: 3\n",
      "\n",
      "Text is unstructered: 'ht ; oestrogens with or without progestogens @CHEMICAL@ venous thromboembolism @DISEASE@ @CID@ ht ; oestrogens with or without progestogens @CHEMICAL@ coronary event @DISEASE@ @CID@ ht ; oestrogens with or without progestogens @CHEMICAL@ breast cancer @DISEASE@ @CID@ ht ; oestrogens @CHEMICAL@ ovarian cancer @DISEASE@ @CID@ ht ; oestrogen'\n",
      "Text should end with a relationship label found in re_labels: ['@CID@'].\n",
      "\n",
      "Text is unstructered: 'ifosfamide ; ifosfamide @CHEMICAL@ renal damage ; nephropathy @DISEASE@ @CID@ ifosfamide ; ifosfamide @CHEMICAL@ protein @CHEMICAL@ nephropathy @DISEASE@ @CID@'\n",
      "Text should have 2 times the ner_labels: ['@CHEMICAL@', '@DISEASE@'] then there are re_label: ['@CID@']. currently: ner labels: 5 | re labels: 2\n",
      "\n",
      "Text is unstructered: 'quinine @CHEMICAL@ premature ventricular contraction ; pvc @DISEASE@ @CID@ quinine @CHEMICAL@ fever @DISEASE@ @CID@ quinine @CHEMICAL@ chill @DISEASE@ @CID@ quinine @CHEMICAL@ vomiting @DISEASE@ @CID@ quinine @CHEMICAL@ jaundice @DISEASE@ @CID@ quinine @CHEMICAL@ fever @DISEASE@ @CID@ quinine @CHEMICAL@ diarrhea @DISEASE@ @CID@ quinine @CHEMICAL@ loss of hearing @DISEASE'\n",
      "Text should end with a relationship label found in re_labels: ['@CID@'].\n",
      "\n",
      "Text is unstructered: '5-fluorouracil ; 5-fu @CHEMICAL@ memory deficits ; deteriorations in cognition ; deficits in 5-fu @CHEMICAL@ reduction in freezing time @DISEASE@ @CID@'\n",
      "Text should have 2 times the ner_labels: ['@CHEMICAL@', '@DISEASE@'] then there are re_label: ['@CID@']. currently: ner labels: 3 | re labels: 1\n",
      "\n",
      "Text is unstructered: 'lindane @CHEMICAL@ convulsions ; convulsive @DISEASE@ @CID@ lindane @CHEMICAL@ pesticide ; pesticide @CHEMICAL@ convulsions ; convulsive @DISEASE@ @CID@ lindane @CHEMICAL@ epilepsy ; convulsive @DISEASE@ @CID@'\n",
      "Text should have 2 times the ner_labels: ['@CHEMICAL@', '@DISEASE@'] then there are re_label: ['@CID@']. currently: ner labels: 7 | re labels: 3\n",
      "\n"
     ]
    }
   ],
   "source": [
    "re_labels = ['@CID@']\n",
    "ner_labels = ['@CHEMICAL@', '@DISEASE@']\n",
    "for i in test_eval_dataset_trained:\n",
    "    text = i['predicted']\n",
    "    try:\n",
    "        extract_relation_triples(text, ner_labels, re_labels)\n",
    "    except ValueError as error:\n",
    "        print(error)"
   ]
  },
  {
   "cell_type": "markdown",
   "id": "6f0775f7-9a04-4e53-b531-6b1c5fd94fe6",
   "metadata": {},
   "source": [
    "# Using 🤗 Evaluate to calculate accuracy, f1, precision and recall"
   ]
  },
  {
   "cell_type": "code",
   "execution_count": 16,
   "id": "7851e40c-1195-4a26-ad50-02b87605877d",
   "metadata": {},
   "outputs": [],
   "source": [
    "clf_metrics = evaluate.combine([\"f1\", \"precision\", \"recall\"])"
   ]
  },
  {
   "cell_type": "code",
   "execution_count": 17,
   "id": "b11f82b4-d27d-497d-a6cb-bb8064f8edbc",
   "metadata": {},
   "outputs": [
    {
     "data": {
      "text/plain": [
       "{'f1': 0.5, 'precision': 0.5, 'recall': 0.5}"
      ]
     },
     "execution_count": 17,
     "metadata": {},
     "output_type": "execute_result"
    }
   ],
   "source": [
    "clf_metrics.compute(\n",
    "    predictions=[0,1,1],\n",
    "    references=[1,0,1]\n",
    ")"
   ]
  },
  {
   "cell_type": "markdown",
   "id": "7faed103-32b2-4c7b-a9cb-05f7999e42ab",
   "metadata": {},
   "source": [
    "All of these metrics take input as a list of ints.\n",
    "\n",
    "documentation:\n",
    "- [accuracy](https://huggingface.co/spaces/evaluate-metric/accuracy)\n",
    "- [precision](https://huggingface.co/spaces/evaluate-metric/precision)\n",
    "- [recall](https://huggingface.co/spaces/evaluate-metric/recall)\n",
    "- [f1](https://huggingface.co/spaces/evaluate-metric/f1)\n",
    "\n",
    "so the extract relation triples needs to work on the input ids. Or the text needs to be converted to ints"
   ]
  },
  {
   "cell_type": "markdown",
   "id": "2e58bc04-4fee-43a0-aa56-409bc6d0ba3e",
   "metadata": {},
   "source": [
    "## Converting text to ints method"
   ]
  },
  {
   "cell_type": "markdown",
   "id": "c794d840-8053-4fcf-86c4-9bf42aa65857",
   "metadata": {},
   "source": [
    "Because we're doing a relation extraction from a document, evaluating the output will be a bit different from usual methods. This method will be based on if the set of entities or relation in the predictions are also found in the set of entities and relations in the reference. The sequence of entities and relations are irrelivant. "
   ]
  },
  {
   "cell_type": "markdown",
   "id": "e63803aa-f42c-4831-8e39-fec24462aca9",
   "metadata": {},
   "source": [
    "### Named entity recoginition scoring"
   ]
  },
  {
   "cell_type": "code",
   "execution_count": 18,
   "id": "e467babe-0888-4762-9c4d-6dfb940ac381",
   "metadata": {},
   "outputs": [
    {
     "data": {
      "text/plain": [
       "[{'re_label': 'CID',\n",
       "  'head_ent': {'label': 'CHEMICAL', 'text': 'lithium'},\n",
       "  'tail_ent': {'label': 'DISEASE', 'text': 'chronic renal failure'}},\n",
       " {'re_label': 'CID',\n",
       "  'head_ent': {'label': 'CHEMICAL', 'text': 'lithium'},\n",
       "  'tail_ent': {'label': 'DISEASE', 'text': 'proteinuria'}},\n",
       " {'re_label': 'CID',\n",
       "  'head_ent': {'label': 'CHEMICAL', 'text': 'lithium'},\n",
       "  'tail_ent': {'label': 'DISEASE', 'text': 'hypertension'}}]"
      ]
     },
     "execution_count": 18,
     "metadata": {},
     "output_type": "execute_result"
    }
   ],
   "source": [
    "# starting point\n",
    "index = 4\n",
    "relation_triples[index]"
   ]
  },
  {
   "cell_type": "code",
   "execution_count": 19,
   "id": "43b66e6d-777e-474e-95ae-7ef6727b461f",
   "metadata": {},
   "outputs": [],
   "source": [
    "# predictions = relation_triples[index]\n",
    "# references = relation_triples[index]\n",
    "\n",
    "# ### Define group of entities in the reference\n",
    "# entities_text = list()\n",
    "# for relation in references:\n",
    "#     nested_list = list(relation.values())[0] # Elements can be list if there is a coreferent mention\n",
    "#     # This next list comprehension is barely readable but if an element is a sublist it is flattend \n",
    "#     # if an element is a string it's kept as it is. \n",
    "#     entities_text.extend([item for sublist in nested_list.values() for item in (sublist if isinstance(sublist, list) else [sublist])])\n",
    "\n",
    "# ### Check if a prediction is in the group of reference entities\n",
    "# for pred in predictions:\n",
    "#     for pred_ent in list(pred.values())[0].values():\n",
    "#         if isinstance(pred_ent, list):\n",
    "#         else:\n",
    "#             if pred_ent in entities_text:\n",
    "#                 pass\n",
    "#     # Remove entity texts from the group if there is a match\n",
    "# # Check if the labels match\n",
    "# # "
   ]
  },
  {
   "cell_type": "markdown",
   "id": "09029e6a-5cf6-4f29-b489-6a0b09a2bc3a",
   "metadata": {},
   "source": [
    "### Relation extraxtion scoring"
   ]
  },
  {
   "cell_type": "markdown",
   "id": "068286bd-3b17-4aad-b91a-3965b3cb7acc",
   "metadata": {},
   "source": [
    "## Using inputs ids method"
   ]
  },
  {
   "cell_type": "code",
   "execution_count": 20,
   "id": "153d55a5-e7d7-440d-a694-88bab6c310d9",
   "metadata": {},
   "outputs": [],
   "source": [
    "# Load tokenizer to access input ids\n",
    "model_name = config['model_name']\n",
    "tokenizer = AutoTokenizer.from_pretrained(model_name, trust_remote_code=True, legacy=False)"
   ]
  },
  {
   "cell_type": "code",
   "execution_count": 21,
   "id": "ef345b58-0f57-470a-9648-e9c79fa76d34",
   "metadata": {},
   "outputs": [
    {
     "name": "stdout",
     "output_type": "stream",
     "text": [
      "\u001b[38;5;4mℹ Output in text:\u001b[0m\n",
      "alpha-methyldopa @CHEMICAL@ hypotensive @DISEASE@ @CID@\n",
      "\n",
      "\u001b[38;5;4mℹ Output as input ids:\u001b[0m\n",
      "tensor([[  491,  6977,    18, 22758,    26,    32,   102,     9,  3320, 13717,\n",
      "           329, 23936,  1741, 10950,   324,     7,   757,  3320,   308, 19056,\n",
      "         17892,  1741,  3320,   254,  4309,  1741,     1]])\n",
      "\n",
      "\u001b[38;5;4mℹ Input ids of entity labels\u001b[0m\n",
      "chemical : @CHEMICAL@\n",
      "tokens:['▁@', 'CHE', 'M', 'ICAL', '@']\n",
      "input ids: tensor([ 3320, 13717,   329, 23936,  1741])\n",
      "\n",
      "disease : @DISEASE@\n",
      "tokens:['▁@', 'D', 'ISE', 'ASE', '@']\n",
      "input ids: tensor([ 3320,   308, 19056, 17892,  1741])\n",
      "\n",
      "\u001b[38;5;4mℹ Input ids of relation labels\u001b[0m\n",
      "chemical induced disease : @CID@\n",
      "tokens:['▁@', 'C', 'ID', '@']\n",
      "input ids: tensor([3320,  254, 4309, 1741])\n",
      "\n"
     ]
    }
   ],
   "source": [
    "# voorbeeld\n",
    "msg.info(f\"Output in text:\")\n",
    "print(relations_in_structerd_text[0]+'\\n')\n",
    "input_ids=tokenizer(relations_in_structerd_text[0], return_tensors=\"pt\").input_ids\n",
    "msg.info(f\"Output as input ids:\")\n",
    "print(input_ids)\n",
    "print() \n",
    "\n",
    "msg.info(\"Input ids of entity labels\")\n",
    "for key, value in entity_types.items():\n",
    "    input_ids = tokenizer(value, return_tensors=\"pt\").input_ids\n",
    "    tokens = tokenizer.tokenize(value)\n",
    "    print(f\"{key} : {value}\\ntokens:{tokens}\\ninput ids: {input_ids[0][:-1]}\"+\"\\n\")\n",
    "\n",
    "msg.info(\"Input ids of relation labels\")\n",
    "for key, value in rel_types.items():\n",
    "    input_ids = tokenizer(value, return_tensors=\"pt\").input_ids\n",
    "    tokens = tokenizer.tokenize(value)\n",
    "    print(f\"{key} : {value}\\ntokens:{tokens}\\ninput ids: {input_ids[0][:-1]}\"+\"\\n\")"
   ]
  },
  {
   "cell_type": "markdown",
   "id": "8ab07d77-18e2-4edf-9a85-9e443c299088",
   "metadata": {},
   "source": [
    "We can use the unique sequence of input ids of the entity and relation labels to extract the input ids of the entity text."
   ]
  },
  {
   "cell_type": "markdown",
   "id": "7c2c3084-e19d-499f-952a-77a2cddd5ddd",
   "metadata": {},
   "source": [
    "### Custom implementation of precision, recall and f1 for RE:"
   ]
  },
  {
   "cell_type": "code",
   "execution_count": 22,
   "id": "3a345bbf-7f6e-4e60-bd20-46a57d9669b8",
   "metadata": {},
   "outputs": [],
   "source": [
    "def re_metric(predictions: list[str], references: list[str], ner_labels: list[str], re_labels: list[str]):\n",
    "    \n",
    "    tp = 0 # True positive count\n",
    "    fp = 0 # False positive count\n",
    "    fn = 0 # False negative count\n",
    "    \n",
    "    unstructured_text_count = 0\n",
    "    \n",
    "    # Define groups\n",
    "    for pred_text, ref_text in zip(predictions, references):\n",
    "        try:\n",
    "            predicted_triples = extract_relation_triples(pred_text, ner_labels, re_labels, True)\n",
    "        except ValueError: # Text is unstructured\n",
    "            unstructured_text_count += 1\n",
    "            continue\n",
    "    \n",
    "        references = extract_relation_triples(ref_text, ner_labels, re_labels, True)\n",
    "    \n",
    "        for pred in predicted_triples:\n",
    "            if pred in references: # True positive\n",
    "                tp=+1\n",
    "                references.remove(pred)\n",
    "            else: # False positive\n",
    "                fp+=1\n",
    "                \n",
    "        # False negative\n",
    "        fn+=len(references)\n",
    "\n",
    "    # Calculate metrics\n",
    "    if (tp+fp) == 0: precision=0.0\n",
    "    else: precision = tp/(tp+fp)\n",
    "\n",
    "    if (tp+fn) == 0: recall=0.0\n",
    "    else: recall = tp/(tp+fn)\n",
    "\n",
    "    if (precision+recall) == 0: f1=0.0\n",
    "    else: f1 = 2 * ((precision*recall)/(precision+recall))\n",
    "\n",
    "    unstructured_text = unstructured_text_count/len(predictions)\n",
    "\n",
    "    return {'re_precision':precision, 're_recall':recall, 're_f1':f1, 'unstructured':unstructured_text}"
   ]
  },
  {
   "cell_type": "code",
   "execution_count": 23,
   "id": "34e851c2-9872-42a2-809d-eedd05e7a5f2",
   "metadata": {},
   "outputs": [
    {
     "name": "stdout",
     "output_type": "stream",
     "text": [
      "Result with references as input: {'re_precision': 100.0, 're_recall': 100.0, 're_f1': 100.0, 'unstructerd': 0.0}\n",
      "Actual results: {'re_precision': 0.1495, 're_recall': 0.1401, 're_f1': 0.1446, 'unstructerd': 4.2}\n"
     ]
    }
   ],
   "source": [
    "# Testing\n",
    "re_labels = ['@CID@']\n",
    "ner_labels = ['@CHEMICAL@', '@DISEASE@']\n",
    "predictions = [i['predicted'] for i in test_eval_dataset_trained]\n",
    "references = [i['expected output'] for i in test_eval_dataset_trained]\n",
    "\n",
    "result = re_metric(references, references, ner_labels, re_labels)\n",
    "result = {k: round(v * 100, 4) for k, v in result.items()}\n",
    "print(f\"Result with references as input: {result}\")\n",
    "\n",
    "result = re_metric(predictions, references, ner_labels, re_labels)\n",
    "result = {k: round(v * 100, 4) for k, v in result.items()}\n",
    "print(f\"Actual results: {result}\")"
   ]
  },
  {
   "cell_type": "markdown",
   "id": "92509957-162e-4625-bc3d-7d7ffed84ee9",
   "metadata": {},
   "source": [
    "### Custom implementation of precision, recall and f1 for NER:\n",
    "This function should take a list of predicted outputs and a list of references. The lists are a list of strings, the strings being the decoded output of the model (using `tokenizer.batch_decode()`)\n",
    "\n",
    "The output should be a dictionary with `key : value` pairs of `name metric : value of metric`"
   ]
  },
  {
   "cell_type": "code",
   "execution_count": 24,
   "id": "71ceb1be-ca78-487b-9541-fc2895710c23",
   "metadata": {},
   "outputs": [],
   "source": [
    "def get_group(relation_triples):\n",
    "    group = []\n",
    "    for rel in relation_triples:\n",
    "        group.append(rel['head_ent'])\n",
    "        group.append(rel['tail_ent'])\n",
    "    return group"
   ]
  },
  {
   "cell_type": "code",
   "execution_count": 27,
   "id": "b7b997c5-2fe7-44bf-bdd0-07bc5f9b73f3",
   "metadata": {
    "scrolled": true
   },
   "outputs": [
    {
     "data": {
      "text/plain": [
       "[{'re_label': 'CID',\n",
       "  'head_ent': {'label': 'CHEMICAL', 'text': 'lidocaine'},\n",
       "  'tail_ent': {'label': 'DISEASE', 'text': 'cardiac asystole'}}]"
      ]
     },
     "execution_count": 27,
     "metadata": {},
     "output_type": "execute_result"
    }
   ],
   "source": [
    "relation_triples[1]"
   ]
  },
  {
   "cell_type": "code",
   "execution_count": 28,
   "id": "9262a137-951f-45c5-94c7-9dd2c8b62839",
   "metadata": {},
   "outputs": [
    {
     "data": {
      "text/plain": [
       "[{'label': 'CHEMICAL', 'text': 'lidocaine'},\n",
       " {'label': 'DISEASE', 'text': 'cardiac asystole'}]"
      ]
     },
     "execution_count": 28,
     "metadata": {},
     "output_type": "execute_result"
    }
   ],
   "source": [
    "# testing get_group\n",
    "get_group(relation_triples[1])"
   ]
  },
  {
   "cell_type": "code",
   "execution_count": 34,
   "id": "df69a646-ff02-4371-b4dd-41758550ad1f",
   "metadata": {},
   "outputs": [],
   "source": [
    "def split_coferents(ent):\n",
    "    if isinstance(ent['text'], tuple):\n",
    "        return tuple([{\"label\":ent[\"label\"], \"text\":ent['text'][i]} for i in range(len(ent['text']))])\n",
    "    else:\n",
    "        return ent"
   ]
  },
  {
   "cell_type": "code",
   "execution_count": 35,
   "id": "d30c9c5e-db77-4eff-ae29-cbbebbbdeb1b",
   "metadata": {},
   "outputs": [
    {
     "name": "stdout",
     "output_type": "stream",
     "text": [
      "A single ent: {'label': 'CHEMICAL', 'text': 'lidocaine'}\n"
     ]
    },
    {
     "data": {
      "text/plain": [
       "{'label': 'CHEMICAL', 'text': 'lidocaine'}"
      ]
     },
     "execution_count": 35,
     "metadata": {},
     "output_type": "execute_result"
    }
   ],
   "source": [
    "# Testing split_coferents\n",
    "print(f\"A single ent: {relation_triples[1][0]['head_ent']}\")\n",
    "split_coferents(relation_triples[1][0]['head_ent'])"
   ]
  },
  {
   "cell_type": "code",
   "execution_count": 36,
   "id": "f9cf6072-5e7d-4749-9c55-f740a48cc3fc",
   "metadata": {},
   "outputs": [],
   "source": [
    "def map_coferents(group):\n",
    "    '''\n",
    "    This function splits a coferent mention of an entity into the two different mentions\n",
    "    '''\n",
    "    result = {}\n",
    "    group = [split_coferents(ent) for ent in group] # Split coferents into two entities\n",
    "    for ent in group:\n",
    "        if isinstance(ent, tuple):\n",
    "            for i in range(len(ent)):\n",
    "                result[frozenset(ent[i].items())] = ent\n",
    "        else:\n",
    "            result[frozenset(ent.items())] = (ent,)\n",
    "\n",
    "    return result"
   ]
  },
  {
   "cell_type": "code",
   "execution_count": 37,
   "id": "6ad5ddc1-cded-4c4e-9a65-adf77900210d",
   "metadata": {},
   "outputs": [
    {
     "data": {
      "text/plain": [
       "[{'re_label': 'CID',\n",
       "  'head_ent': {'label': 'CHEMICAL', 'text': 'lidocaine'},\n",
       "  'tail_ent': {'label': 'DISEASE', 'text': 'cardiac asystole'}}]"
      ]
     },
     "execution_count": 37,
     "metadata": {},
     "output_type": "execute_result"
    }
   ],
   "source": [
    "relation_triples[1]"
   ]
  },
  {
   "cell_type": "code",
   "execution_count": 38,
   "id": "40151f41-5553-46e0-a3c7-cd0d18141c44",
   "metadata": {},
   "outputs": [
    {
     "ename": "TypeError",
     "evalue": "list indices must be integers or slices, not str",
     "output_type": "error",
     "traceback": [
      "\u001b[0;31m---------------------------------------------------------------------------\u001b[0m",
      "\u001b[0;31mTypeError\u001b[0m                                 Traceback (most recent call last)",
      "Cell \u001b[0;32mIn[38], line 2\u001b[0m\n\u001b[1;32m      1\u001b[0m \u001b[38;5;66;03m# testing map_coferents\u001b[39;00m\n\u001b[0;32m----> 2\u001b[0m group \u001b[38;5;241m=\u001b[39m \u001b[43mget_group\u001b[49m\u001b[43m(\u001b[49m\u001b[43mrelation_triples\u001b[49m\u001b[43m)\u001b[49m\n\u001b[1;32m      3\u001b[0m map_coferents(group)\n",
      "Cell \u001b[0;32mIn[24], line 4\u001b[0m, in \u001b[0;36mget_group\u001b[0;34m(relation_triples)\u001b[0m\n\u001b[1;32m      2\u001b[0m group \u001b[38;5;241m=\u001b[39m []\n\u001b[1;32m      3\u001b[0m \u001b[38;5;28;01mfor\u001b[39;00m rel \u001b[38;5;129;01min\u001b[39;00m relation_triples:\n\u001b[0;32m----> 4\u001b[0m     group\u001b[38;5;241m.\u001b[39mappend(\u001b[43mrel\u001b[49m\u001b[43m[\u001b[49m\u001b[38;5;124;43m'\u001b[39;49m\u001b[38;5;124;43mhead_ent\u001b[39;49m\u001b[38;5;124;43m'\u001b[39;49m\u001b[43m]\u001b[49m)\n\u001b[1;32m      5\u001b[0m     group\u001b[38;5;241m.\u001b[39mappend(rel[\u001b[38;5;124m'\u001b[39m\u001b[38;5;124mtail_ent\u001b[39m\u001b[38;5;124m'\u001b[39m])\n\u001b[1;32m      6\u001b[0m \u001b[38;5;28;01mreturn\u001b[39;00m group\n",
      "\u001b[0;31mTypeError\u001b[0m: list indices must be integers or slices, not str"
     ]
    }
   ],
   "source": [
    "# testing map_coferents\n",
    "group = get_group(relation_triples)\n",
    "map_coferents(group)"
   ]
  },
  {
   "cell_type": "code",
   "execution_count": 39,
   "id": "e3768189-5bef-4358-b017-1f34f748dd1f",
   "metadata": {},
   "outputs": [
    {
     "ename": "TypeError",
     "evalue": "argument of type 'bool' is not iterable",
     "output_type": "error",
     "traceback": [
      "\u001b[0;31m---------------------------------------------------------------------------\u001b[0m",
      "\u001b[0;31mTypeError\u001b[0m                                 Traceback (most recent call last)",
      "Cell \u001b[0;32mIn[39], line 14\u001b[0m\n\u001b[1;32m     11\u001b[0m fn \u001b[38;5;241m=\u001b[39m \u001b[38;5;241m0\u001b[39m \u001b[38;5;66;03m# False negative count\u001b[39;00m\n\u001b[1;32m     12\u001b[0m \u001b[38;5;28;01mfor\u001b[39;00m pred_text, ref_text \u001b[38;5;129;01min\u001b[39;00m \u001b[38;5;28mzip\u001b[39m(predictions, references):\n\u001b[1;32m     13\u001b[0m     \u001b[38;5;66;03m# Define groups\u001b[39;00m\n\u001b[0;32m---> 14\u001b[0m     pred_group \u001b[38;5;241m=\u001b[39m get_group(\u001b[43mextract_relation_triples\u001b[49m\u001b[43m(\u001b[49m\u001b[43mpred_text\u001b[49m\u001b[43m,\u001b[49m\u001b[43m \u001b[49m\u001b[43m[\u001b[49m\u001b[38;5;124;43m'\u001b[39;49m\u001b[38;5;124;43m@CID@\u001b[39;49m\u001b[38;5;124;43m'\u001b[39;49m\u001b[43m]\u001b[49m\u001b[43m,\u001b[49m\u001b[43m \u001b[49m\u001b[38;5;28;43;01mTrue\u001b[39;49;00m\u001b[43m)\u001b[49m)\n\u001b[1;32m     15\u001b[0m     ref_group \u001b[38;5;241m=\u001b[39m get_group(extract_relation_triples(ref_text, [\u001b[38;5;124m'\u001b[39m\u001b[38;5;124m@CID@\u001b[39m\u001b[38;5;124m'\u001b[39m], \u001b[38;5;28;01mTrue\u001b[39;00m))\n\u001b[1;32m     17\u001b[0m     \u001b[38;5;28;01mif\u001b[39;00m coferent_matching \u001b[38;5;241m==\u001b[39m \u001b[38;5;124m\"\u001b[39m\u001b[38;5;124mrelaxed\u001b[39m\u001b[38;5;124m\"\u001b[39m:\n\u001b[1;32m     18\u001b[0m         \u001b[38;5;66;03m# Create mapping from a coferent mentions to all coferent mentions\u001b[39;00m\n",
      "Cell \u001b[0;32mIn[14], line 17\u001b[0m, in \u001b[0;36mextract_relation_triples\u001b[0;34m(text, ner_labels, re_labels, keep_coreforents)\u001b[0m\n\u001b[1;32m     14\u001b[0m split_on_space_text \u001b[38;5;241m=\u001b[39m text\u001b[38;5;241m.\u001b[39msplit(\u001b[38;5;124m\"\u001b[39m\u001b[38;5;124m \u001b[39m\u001b[38;5;124m\"\u001b[39m)\n\u001b[1;32m     16\u001b[0m \u001b[38;5;66;03m# check if text ends with a relation label\u001b[39;00m\n\u001b[0;32m---> 17\u001b[0m \u001b[38;5;28;01mif\u001b[39;00m \u001b[43msplit_on_space_text\u001b[49m\u001b[43m[\u001b[49m\u001b[38;5;241;43m-\u001b[39;49m\u001b[38;5;241;43m1\u001b[39;49m\u001b[43m]\u001b[49m\u001b[43m \u001b[49m\u001b[38;5;129;43;01mnot\u001b[39;49;00m\u001b[43m \u001b[49m\u001b[38;5;129;43;01min\u001b[39;49;00m\u001b[43m \u001b[49m\u001b[43mre_labels\u001b[49m:\n\u001b[1;32m     18\u001b[0m     \u001b[38;5;28;01mraise\u001b[39;00m \u001b[38;5;167;01mValueError\u001b[39;00m(\u001b[38;5;124mf\u001b[39m\u001b[38;5;124m\"\u001b[39m\u001b[38;5;124mText is unstructered: \u001b[39m\u001b[38;5;124m'\u001b[39m\u001b[38;5;132;01m{\u001b[39;00mtext\u001b[38;5;132;01m}\u001b[39;00m\u001b[38;5;124m'\u001b[39m\u001b[38;5;130;01m\\n\u001b[39;00m\u001b[38;5;124mText should end with a relationship label found in re_labels: \u001b[39m\u001b[38;5;132;01m{\u001b[39;00mre_labels\u001b[38;5;132;01m}\u001b[39;00m\u001b[38;5;124m.\u001b[39m\u001b[38;5;130;01m\\n\u001b[39;00m\u001b[38;5;124m\"\u001b[39m)\n\u001b[1;32m     20\u001b[0m \u001b[38;5;66;03m# Check if text has atleast two entity labels and one relation label\u001b[39;00m\n",
      "\u001b[0;31mTypeError\u001b[0m: argument of type 'bool' is not iterable"
     ]
    }
   ],
   "source": [
    "example_batch = relations_in_structerd_text[:10]\n",
    "predictions = example_batch\n",
    "references = example_batch\n",
    "\n",
    "coferent_matching = \"relaxed\"\n",
    "predictions = example_batch\n",
    "references = example_batch\n",
    "\n",
    "tp = 0 # True positive count\n",
    "fp = 0 # False positive count\n",
    "fn = 0 # False negative count\n",
    "for pred_text, ref_text in zip(predictions, references):\n",
    "    # Define groups\n",
    "    pred_group = get_group(extract_relation_triples(pred_text, ['@CID@'], True))\n",
    "    ref_group = get_group(extract_relation_triples(ref_text, ['@CID@'], True))\n",
    "\n",
    "    if coferent_matching == \"relaxed\":\n",
    "        # Create mapping from a coferent mentions to all coferent mentions\n",
    "        mapping_coferent = map_coferents(ref_group)\n",
    "\n",
    "        pred_group = [split_coferents(ent) for ent in pred_group] # Split coferents into multiple entities \n",
    "        # print(f\"pred_group before flattening: {pred_group}\") # DEBUG\n",
    "        pred_group = [item for sublist in pred_group for item in (sublist if isinstance(sublist, tuple) else [sublist])] # Flatten list\n",
    "        # print(f\"pred_group after flattening: {pred_group}\"+'\\n') # DEBUG\n",
    "\n",
    "        ref_group = [split_coferents(ent) for ent in ref_group] # Split coferents into multiple entities \n",
    "        ref_group = [item for sublist in ref_group for item in (sublist if isinstance(sublist, tuple) else [sublist])] # Flatten list\n",
    "\n",
    "    # print(f\"pred_group: {pred_group}\\nref_group: {ref_group}\") #DEBUG\n",
    "    # print(f\"mapping: {mapping_coferent}\")\n",
    "    checked_coferent_pred = []\n",
    "    for ent in pred_group:\n",
    "        # print(ent) # DEBUG\n",
    "        # print(ref_group) # DEBUG\n",
    "        # print() #DEBUG\n",
    "        if ent in ref_group: # True positive\n",
    "            tp += 1\n",
    "            # Remove all instances of the coferent mentions\n",
    "            if coferent_matching == \"relaxed\": \n",
    "                [ref_group.remove(i) for i in mapping_coferent[frozenset(ent.items())]]\n",
    "                checked_coferent_pred.extend([i for i in mapping_coferent[frozenset(ent.items())]])\n",
    "            else: ref_group.remove(ent) \n",
    "            continue\n",
    "        elif ent not in ref_group and ent not in checked_coferent_pred: # False positive\n",
    "            fp += 1\n",
    "    fn += len(ref_group) # False negative \n",
    "    # print(f\"TP: {tp}, FP: {fp}, FN: {fn}\") #DEBUG\n",
    "\n",
    "# Calculate metrics\n",
    "if (tp+fp) == 0: precision=0.0\n",
    "else: precision = tp/(tp+fp)\n",
    "\n",
    "if (tp+fn) == 0: recall=0.0\n",
    "else: recall = tp/(tp+fn)\n",
    "\n",
    "if (precision+recall) == 0: f1=0.0\n",
    "else: f1 = 2 * ((precision*recall)/(precision+recall))\n",
    "\n",
    "print({'precision':precision, 'recall':recall, 'f1':f1})"
   ]
  },
  {
   "cell_type": "code",
   "execution_count": 40,
   "id": "c3dc0064-e2c5-43f5-b8f6-929d255cbac8",
   "metadata": {},
   "outputs": [],
   "source": [
    "def ner_metric(predictions: list[str], references: list[str], ner_labels: list[str], re_labels: list[str], coferent_matching: str =\"relaxed\") -> dict:\n",
    "    '''\n",
    "    Calculates the precision, recall and f1-score for document named entity recognition. \n",
    "    input:\n",
    "        predictions: \n",
    "            List of decoded outputs of the model\n",
    "        references: \n",
    "            List of decoded gold data\n",
    "        coferent_matching: \n",
    "            Wheter to use the coferent mentions to match named entities. can be either \"relaxed\" or \"strict\".\n",
    "            relaxed meaning that all coferent mentions might be used to match a predicted named entity to a reference entity\n",
    "            strict meaning the model needs to have all coferent mentions correct to count as a match. (including the sequence)\n",
    "        re_labels\n",
    "            Which relation extraxtion labels are used.\n",
    "    output\n",
    "        a dictionary with the key value pairs of metric_name : metric value\n",
    "    '''\n",
    "    tp = 0 # True positive count\n",
    "    fp = 0 # False positive count\n",
    "    fn = 0 # False negative count\n",
    "\n",
    "    unstructured_text_count = 0\n",
    "    \n",
    "    for pred_text, ref_text in zip(predictions, references):\n",
    "        # Define groups\n",
    "        try:\n",
    "            pred_group = get_group(extract_relation_triples(pred_text, ner_labels, re_labels, True))\n",
    "        except ValueError:\n",
    "            continue\n",
    "            \n",
    "        ref_group = get_group(extract_relation_triples(ref_text, ner_labels, re_labels, True))\n",
    "    \n",
    "        if coferent_matching == \"relaxed\":\n",
    "            # Create mapping from a coferent mentions to all coferent mentions\n",
    "            mapping_coferent = map_coferents(ref_group)\n",
    "    \n",
    "            pred_group = [split_coferents(ent) for ent in pred_group] # Split coferents into multiple entities \n",
    "            # print(f\"pred_group before flattening: {pred_group}\") # DEBUG\n",
    "            pred_group = [item for sublist in pred_group for item in (sublist if isinstance(sublist, tuple) else [sublist])] # Flatten list\n",
    "            # print(f\"pred_group after flattening: {pred_group}\"+'\\n') # DEBUG\n",
    "    \n",
    "            ref_group = [split_coferents(ent) for ent in ref_group] # Split coferents into multiple entities \n",
    "            ref_group = [item for sublist in ref_group for item in (sublist if isinstance(sublist, tuple) else [sublist])] # Flatten list\n",
    "    \n",
    "        # print(f\"pred_group: {pred_group}\\nref_group: {ref_group}\") #DEBUG\n",
    "        # print(f\"mapping: {mapping_coferent}\")\n",
    "        checked_coferent_pred = []\n",
    "        for ent in pred_group:\n",
    "            # print(ent) # DEBUG\n",
    "            # print(ref_group) # DEBUG\n",
    "            # print() #DEBUG\n",
    "            if ent in ref_group: # True positive\n",
    "                tp += 1\n",
    "                # Remove all instances of the coferent mentions\n",
    "                if coferent_matching == \"relaxed\": \n",
    "                    [ref_group.remove(i) for i in mapping_coferent[frozenset(ent.items())]]\n",
    "                    checked_coferent_pred.extend([i for i in mapping_coferent[frozenset(ent.items())]])\n",
    "                else: ref_group.remove(ent) \n",
    "                continue\n",
    "            elif ent not in ref_group and ent not in checked_coferent_pred: # False positive\n",
    "                fp += 1\n",
    "        fn += len(ref_group) # False negative \n",
    "        # print(f\"TP: {tp}, FP: {fp}, FN: {fn}\") #DEBUG\n",
    "    \n",
    "    # Calculate metrics\n",
    "    if (tp+fp) == 0: precision=0.0\n",
    "    else: precision = tp/(tp+fp)\n",
    "    \n",
    "    if (tp+fn) == 0: recall=0.0\n",
    "    else: recall = tp/(tp+fn)\n",
    "    \n",
    "    if (precision+recall) == 0: f1=0.0\n",
    "    else: f1 = 2 * ((precision*recall)/(precision+recall))\n",
    "    \n",
    "    return {'ner_precision':precision, 'ner_recall':recall, 'ner_f1':f1}"
   ]
  },
  {
   "cell_type": "code",
   "execution_count": 41,
   "id": "4f2df498-10b1-4b21-83a5-f9cebac34209",
   "metadata": {},
   "outputs": [
    {
     "name": "stdout",
     "output_type": "stream",
     "text": [
      "Result with references as input: {'ner_precision': 100.0, 'ner_recall': 100.0, 'ner_f1': 100.0}\n",
      "Actual results: {'ner_precision': 62.7532, 'ner_recall': 55.1346, 'ner_f1': 58.6978}\n"
     ]
    }
   ],
   "source": [
    "re_labels = ['@CID@']\n",
    "ner_labels = ['@CHEMICAL@', '@DISEASE@']\n",
    "predictions = [i['predicted'] for i in test_eval_dataset_trained]\n",
    "references = [i['expected output'] for i in test_eval_dataset_trained]\n",
    "\n",
    "result = ner_metric(references, references, ner_labels, re_labels)\n",
    "result = {k: round(v * 100, 4) for k, v in result.items()}\n",
    "print(f\"Result with references as input: {result}\")\n",
    "\n",
    "result = ner_metric(predictions, references, ner_labels, re_labels)\n",
    "result = {k: round(v * 100, 4) for k, v in result.items()}\n",
    "print(f\"Actual results: {result}\")"
   ]
  },
  {
   "cell_type": "markdown",
   "id": "3cd9ef04-c7cb-41e0-acb4-d1150242fdd3",
   "metadata": {},
   "source": [
    "## Loading the model to evaluate "
   ]
  },
  {
   "cell_type": "code",
   "execution_count": null,
   "id": "467b39b5-bc42-422c-a85a-a2f8b46ab49f",
   "metadata": {},
   "outputs": [],
   "source": [
    "model = T5ForConditionalGeneration.from_pretrained(\n",
    "    model_name,\n",
    "    device_map=device_map"
   ]
  }
 ],
 "metadata": {
  "kernelspec": {
   "display_name": "gen_re",
   "language": "python",
   "name": "gen_re"
  },
  "language_info": {
   "codemirror_mode": {
    "name": "ipython",
    "version": 3
   },
   "file_extension": ".py",
   "mimetype": "text/x-python",
   "name": "python",
   "nbconvert_exporter": "python",
   "pygments_lexer": "ipython3",
   "version": "3.12.1"
  }
 },
 "nbformat": 4,
 "nbformat_minor": 5
}
