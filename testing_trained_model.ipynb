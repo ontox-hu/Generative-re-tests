{
 "cells": [
  {
   "cell_type": "code",
   "execution_count": 1,
   "id": "30446cb9-44dc-4b1f-8afd-423f530500f6",
   "metadata": {},
   "outputs": [
    {
     "name": "stderr",
     "output_type": "stream",
     "text": [
      "/home/lgrootde/Generative-re-tests/venv/lib/python3.12/site-packages/tqdm/auto.py:21: TqdmWarning: IProgress not found. Please update jupyter and ipywidgets. See https://ipywidgets.readthedocs.io/en/stable/user_install.html\n",
      "  from .autonotebook import tqdm as notebook_tqdm\n"
     ]
    }
   ],
   "source": [
    "from transformers import (\n",
    "    T5Tokenizer,\n",
    "    AutoTokenizer,\n",
    "    T5ForConditionalGeneration,\n",
    "    Seq2SeqTrainingArguments,\n",
    "    Seq2SeqTrainer,\n",
    "    DataCollatorForSeq2Seq,\n",
    "    HfArgumentParser,\n",
    "    TrainingArguments,\n",
    ")\n",
    "import torch\n",
    "from datasets import load_dataset\n",
    "from wasabi import msg"
   ]
  },
  {
   "cell_type": "code",
   "execution_count": 2,
   "id": "5ee923f6-dca8-4afa-be9a-16bb513a3fe0",
   "metadata": {},
   "outputs": [],
   "source": [
    "# Load the config\n",
    "import yaml\n",
    "with open('config/config_testing.yaml') as f:\n",
    "    config = yaml.load(f, Loader=yaml.FullLoader)"
   ]
  },
  {
   "cell_type": "code",
   "execution_count": 3,
   "id": "13ad9288-daf4-4801-bcbe-448e71ad114c",
   "metadata": {},
   "outputs": [],
   "source": [
    "dataset = load_dataset(\n",
    "        config['dataset_vars']['type'], \n",
    "        data_dir=config['dataset_vars']['dir'],\n",
    "        column_names=config['dataset_vars']['column_names']\n",
    "        )\n",
    "\n",
    "dataset_train = dataset['train'].select(range(1,501)) # remove first row that contains column names\n",
    "dataset_eval = dataset['validation'].select(range(1,501)) # remove first row that contains column names"
   ]
  },
  {
   "cell_type": "code",
   "execution_count": 4,
   "id": "a9abf031-eac1-4679-836a-1bc258b52e32",
   "metadata": {},
   "outputs": [
    {
     "name": "stdout",
     "output_type": "stream",
     "text": [
      "\u001b[38;5;4mℹ Input:\u001b[0m\n",
      "Tricuspid valve regurgitation and lithium carbonate toxicity in a newborn infant. A newborn with massive tricuspid regurgitation, atrial flutter, congestive heart failure, and a high serum lithium level is described. This is the first patient to initially manifest tricuspid regurgitation and atrial flutter, and the 11th described patient with cardiac disease among infants exposed to lithium compounds in the first trimester of pregnancy. Sixty-three percent of these infants had tricuspid valve involvement. Lithium carbonate may be a factor in the increasing incidence of congenital heart disease when taken during early pregnancy. It also causes neurologic depression, cyanosis, and cardiac arrhythmia when consumed prior to delivery.\n",
      "\u001b[38;5;4mℹ Expected output:\u001b[0m\n",
      "lithium carbonate @CHEMICAL@ neurologic depression @DISEASE@ @CID@ lithium carbonate @CHEMICAL@ cyanosis @DISEASE@ @CID@ lithium carbonate @CHEMICAL@ cardiac arrhythmia @DISEASE@ @CID@\n"
     ]
    }
   ],
   "source": [
    "test_text=dataset_eval[0]['input']\n",
    "expected_output=dataset_eval[0]['relations']\n",
    "\n",
    "msg.info(\"Input:\")\n",
    "print(test_text)\n",
    "msg.info(\"Expected output:\")\n",
    "print(expected_output)"
   ]
  },
  {
   "cell_type": "code",
   "execution_count": 5,
   "id": "47975b07-a490-4c39-89a3-62d5dc9b198b",
   "metadata": {},
   "outputs": [],
   "source": [
    "# Load model and tokenizer\n",
    "model_name = config['model_name']\n",
    "device_map = {\"\": 0}\n",
    "\n",
    "tokenizer = AutoTokenizer.from_pretrained(model_name, trust_remote_code=True, legacy=False)\n",
    "model = T5ForConditionalGeneration.from_pretrained(\n",
    "    model_name,\n",
    "    device_map=device_map\n",
    ") # we specificly use T5 for COnfitional generations because it has a language modeling head"
   ]
  },
  {
   "cell_type": "code",
   "execution_count": 6,
   "id": "58a7565d-81b7-4fd3-9fe6-2f10c6a72e0b",
   "metadata": {},
   "outputs": [
    {
     "name": "stdout",
     "output_type": "stream",
     "text": [
      "isosorbide dehydrogenase, and lithium carbonate toxicity..,.,,,,.,,.,.,.,.,.,,.,,,.,.,,,.,.,.,.,.,.,.,.,.,..,..s, cinq\n"
     ]
    }
   ],
   "source": [
    "# Load model before training\n",
    "# inference\n",
    "input_ids = tokenizer(test_text, return_tensors=\"pt\").input_ids.to('cuda') \n",
    "outputs = model.generate(input_ids, max_new_tokens=128)\n",
    "print(tokenizer.decode(outputs[0], skip_special_tokens=True))"
   ]
  },
  {
   "cell_type": "code",
   "execution_count": 7,
   "id": "c54f4949-eec2-4e83-9312-f09db0d9b084",
   "metadata": {},
   "outputs": [],
   "source": [
    "# Load model after training\n",
    "model = T5ForConditionalGeneration.from_pretrained(\n",
    "    \"fine_tune_results/checkpoint-1200\",\n",
    "    device_map=device_map,\n",
    "    local_files_only=True\n",
    ")"
   ]
  },
  {
   "cell_type": "code",
   "execution_count": 8,
   "id": "65dfebe5-1ed1-42ab-9b27-093edbdb5877",
   "metadata": {},
   "outputs": [
    {
     "name": "stdout",
     "output_type": "stream",
     "text": [
      "lithium carbonate @CHEMICAL@ tricuspid regurgitation @DISEASE@ @CID@ lithium carbonate @CHEMICAL@ atrial flutter @DISEASE@ @CID@ lithium carbonate @CHEMICAL@ congenital heart disease @DISEASE@ @CID@\n"
     ]
    }
   ],
   "source": [
    "# inference\n",
    "input_ids = tokenizer(test_text, return_tensors=\"pt\").input_ids.to('cuda') \n",
    "outputs = model.generate(input_ids, max_new_tokens=128)\n",
    "print(tokenizer.decode(outputs[0], skip_special_tokens=True))"
   ]
  }
 ],
 "metadata": {
  "kernelspec": {
   "display_name": "Generative_RE",
   "language": "python",
   "name": "gen_re"
  },
  "language_info": {
   "codemirror_mode": {
    "name": "ipython",
    "version": 3
   },
   "file_extension": ".py",
   "mimetype": "text/x-python",
   "name": "python",
   "nbconvert_exporter": "python",
   "pygments_lexer": "ipython3",
   "version": "3.12.1"
  }
 },
 "nbformat": 4,
 "nbformat_minor": 5
}
