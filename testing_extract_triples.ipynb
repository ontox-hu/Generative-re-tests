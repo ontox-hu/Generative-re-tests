{
 "cells": [
  {
   "cell_type": "markdown",
   "id": "0e73e663-e567-41b5-b6da-8eabd536ebb6",
   "metadata": {},
   "source": [
    "# Extracting triples\n",
    "The model outputs relationship triples in the form of structured text. This notebook shows how the relationship triples are extracted out of that text."
   ]
  },
  {
   "cell_type": "code",
   "execution_count": 20,
   "id": "0704f035-6cc2-46b9-ae48-fcb1c2961c99",
   "metadata": {},
   "outputs": [],
   "source": [
    "from datasets import load_dataset\n",
    "import yaml\n",
    "import re\n",
    "import pandas as pd"
   ]
  },
  {
   "cell_type": "markdown",
   "id": "404c1bd7-15c3-43e3-9dd1-504b2c2f7fe9",
   "metadata": {},
   "source": [
    "## Load Config"
   ]
  },
  {
   "cell_type": "code",
   "execution_count": 2,
   "id": "c39af0e9-3211-470b-b682-d62abdd353f3",
   "metadata": {},
   "outputs": [],
   "source": [
    "# Load the config\n",
    "\n",
    "with open('config/config_testing.yaml') as f:\n",
    "    config = yaml.load(f, Loader=yaml.FullLoader)"
   ]
  },
  {
   "cell_type": "markdown",
   "id": "3901495c-f095-43b8-9b97-b6b942c75f3d",
   "metadata": {},
   "source": [
    "## Load dataset"
   ]
  },
  {
   "cell_type": "code",
   "execution_count": 3,
   "id": "185367d7-734b-4799-ac47-caeef0072892",
   "metadata": {},
   "outputs": [],
   "source": [
    "dataset = load_dataset(\n",
    "        config['dataset_vars']['type'], \n",
    "        data_dir=config['dataset_vars']['dir'],\n",
    "        column_names=config['dataset_vars']['column_names']\n",
    "        )\n",
    "\n",
    "dataset_train = dataset['train'].select(range(1,501)) # remove first row that contains column names\n",
    "dataset_eval = dataset['validation'].select(range(1,501)) # remove first row that contains column names"
   ]
  },
  {
   "cell_type": "code",
   "execution_count": 4,
   "id": "2199406d-b326-48e9-a590-cc423542e1a2",
   "metadata": {
    "scrolled": true
   },
   "outputs": [],
   "source": [
    "relations_in_structerd_text = dataset_train[\"relations\"]\n",
    "entity_types = {\"chemical\":\"@CHEMICAL@\", \n",
    "                \"disease\":\"@DISEASE@\"}\n",
    "rel_types = {\"chemical induced disease\":\"@CID@\"}"
   ]
  },
  {
   "cell_type": "code",
   "execution_count": 5,
   "id": "38594e59-99b5-4f91-b0c4-8cddb0075d72",
   "metadata": {},
   "outputs": [
    {
     "data": {
      "text/plain": [
       "'alpha-methyldopa @CHEMICAL@ hypotensive @DISEASE@ @CID@'"
      ]
     },
     "execution_count": 5,
     "metadata": {},
     "output_type": "execute_result"
    }
   ],
   "source": [
    "# voorbeeld\n",
    "relations_in_structerd_text[0]"
   ]
  },
  {
   "cell_type": "code",
   "execution_count": null,
   "id": "3adf88b2-baa4-48c6-83e7-62f80e7044f7",
   "metadata": {},
   "outputs": [],
   "source": [
    "def split_on_labels(input_text, labels):\n",
    "    # Escape labels to ensure special characters are treated as literals in regex\n",
    "    escaped_labels = [re.escape(label) for label in labels]\n",
    "    # Join the labels into a regex pattern with alternation to match any of them\n",
    "    pattern = '|'.join(escaped_labels)\n",
    "    # Use re.split() with the compiled pattern, keeping the delimiters in the result\n",
    "    relation_segments = re.split(f'({pattern})', input_text)\n",
    "    # Filter out empty strings that might result from splitting\n",
    "    relation_segments = [segment for segment in relation_segments if segment]\n",
    "    return relation_segments"
   ]
  },
  {
   "cell_type": "code",
   "execution_count": 19,
   "id": "593572c3-1c0f-4c20-9821-029428be65cb",
   "metadata": {},
   "outputs": [
    {
     "name": "stdout",
     "output_type": "stream",
     "text": [
      "[{'CID': {'CHEMICAL': ['lithium', 'li'], 'DISEASE': 'chronic renal failure'}}, {'CID': {'CHEMICAL': ['lithium', 'li'], 'DISEASE': 'proteinuria'}}, {'CID': {'CHEMICAL': ['lithium', 'li'], 'DISEASE': 'hypertension'}}]\n"
     ]
    }
   ],
   "source": [
    "import re\n",
    "\n",
    "def extract_relation_triples(input_text, labels):\n",
    "    # Split the input text into relation segments\n",
    "    relation_segments = split_on_labels(input_text, labels)\n",
    "    \n",
    "    # Remove the last empty segment if it exists\n",
    "    if not relation_segments[-1].strip():\n",
    "        relation_segments = relation_segments[:-1]\n",
    "\n",
    "    # Map relation label to entity text\n",
    "    entity_texts = relation_segments[::2]\n",
    "    relation_labels = relation_segments[1::2]\n",
    "    if len(entity_texts) != len(relation_labels): raise ValueError('Amount of relation labels in the text does not equal to amount of entities pairs')\n",
    "    \n",
    "    # Initialize a list to hold the relation triples\n",
    "    relations = []\n",
    "    \n",
    "    for entity_text, rel_label in zip(entity_texts, relation_labels):\n",
    "        # Extract entities and their labels\n",
    "        entities = re.findall(r'(.+?)\\s@(\\w+)@', entity_text)\n",
    "        \n",
    "        # Initialize a dict to store entities mapped to their labels\n",
    "        relation_dict = {}\n",
    "        \n",
    "        for entity, label in entities:\n",
    "            # Handle coreferent mentions (splitting by \";\")\n",
    "            coreferents = [coref.strip() for coref in entity.split(';')]\n",
    "            \n",
    "            if len(coreferents) > 1:\n",
    "                relation_dict[label] = coreferents\n",
    "            else:\n",
    "                relation_dict[label] = coreferents[0]\n",
    "\n",
    "        rel_label = rel_label.split('@')[1]\n",
    "        relations.append({rel_label:relation_dict})\n",
    "    \n",
    "    return relations\n",
    "\n",
    "# Example usage\n",
    "input_text = 'lithium ; li @CHEMICAL@ chronic renal failure @DISEASE@ @CID@ lithium ; li @CHEMICAL@ proteinuria @DISEASE@ @CID@ lithium ; li @CHEMICAL@ hypertension @DISEASE@ @CID@'\n",
    "relation_triples = extract_relation_triples(input_text, ['@CID@'])\n",
    "print(relation_triples)\n"
   ]
  },
  {
   "cell_type": "code",
   "execution_count": 22,
   "id": "53d6b3c0-7345-417c-8aae-689875657dab",
   "metadata": {},
   "outputs": [
    {
     "name": "stdout",
     "output_type": "stream",
     "text": [
      "CPU times: user 4.31 ms, sys: 381 µs, total: 4.69 ms\n",
      "Wall time: 4.59 ms\n"
     ]
    }
   ],
   "source": [
    "%%time\n",
    "relation_triples = [extract_relation_triples(i, ['@CID@']) for i in relations_in_structerd_text]"
   ]
  },
  {
   "cell_type": "code",
   "execution_count": 23,
   "id": "6ae8b50f-6984-44a6-beb8-ec80761c3dad",
   "metadata": {},
   "outputs": [
    {
     "data": {
      "text/html": [
       "<div>\n",
       "<style scoped>\n",
       "    .dataframe tbody tr th:only-of-type {\n",
       "        vertical-align: middle;\n",
       "    }\n",
       "\n",
       "    .dataframe tbody tr th {\n",
       "        vertical-align: top;\n",
       "    }\n",
       "\n",
       "    .dataframe thead th {\n",
       "        text-align: right;\n",
       "    }\n",
       "</style>\n",
       "<table border=\"1\" class=\"dataframe\">\n",
       "  <thead>\n",
       "    <tr style=\"text-align: right;\">\n",
       "      <th></th>\n",
       "      <th>structerd_text</th>\n",
       "      <th>Relation triples</th>\n",
       "    </tr>\n",
       "  </thead>\n",
       "  <tbody>\n",
       "    <tr>\n",
       "      <th>0</th>\n",
       "      <td>alpha-methyldopa @CHEMICAL@ hypotensive @DISEA...</td>\n",
       "      <td>[{'CID': {'CHEMICAL': 'alpha-methyldopa', 'DIS...</td>\n",
       "    </tr>\n",
       "    <tr>\n",
       "      <th>1</th>\n",
       "      <td>lidocaine @CHEMICAL@ cardiac asystole @DISEASE...</td>\n",
       "      <td>[{'CID': {'CHEMICAL': 'lidocaine', 'DISEASE': ...</td>\n",
       "    </tr>\n",
       "    <tr>\n",
       "      <th>2</th>\n",
       "      <td>suxamethonium ; suxamethonium chloride ; sch @...</td>\n",
       "      <td>[{'CID': {'CHEMICAL': ['suxamethonium', 'suxam...</td>\n",
       "    </tr>\n",
       "    <tr>\n",
       "      <th>3</th>\n",
       "      <td>scopolamine ; hyoscine @CHEMICAL@ overdosage @...</td>\n",
       "      <td>[{'CID': {'CHEMICAL': ['scopolamine', 'hyoscin...</td>\n",
       "    </tr>\n",
       "    <tr>\n",
       "      <th>4</th>\n",
       "      <td>lithium ; li @CHEMICAL@ chronic renal failure ...</td>\n",
       "      <td>[{'CID': {'CHEMICAL': ['lithium', 'li'], 'DISE...</td>\n",
       "    </tr>\n",
       "    <tr>\n",
       "      <th>...</th>\n",
       "      <td>...</td>\n",
       "      <td>...</td>\n",
       "    </tr>\n",
       "    <tr>\n",
       "      <th>495</th>\n",
       "      <td>zonisamide @CHEMICAL@ visual hallucinations @D...</td>\n",
       "      <td>[{'CID': {'CHEMICAL': 'zonisamide', 'DISEASE':...</td>\n",
       "    </tr>\n",
       "    <tr>\n",
       "      <th>496</th>\n",
       "      <td>pan ; puromycin aminonucleoside @CHEMICAL@ nep...</td>\n",
       "      <td>[{'CID': {'CHEMICAL': ['pan', 'puromycin amino...</td>\n",
       "    </tr>\n",
       "    <tr>\n",
       "      <th>497</th>\n",
       "      <td>ticlopidine @CHEMICAL@ aplastic anemia @DISEAS...</td>\n",
       "      <td>[{'CID': {'CHEMICAL': 'ticlopidine', 'DISEASE'...</td>\n",
       "    </tr>\n",
       "    <tr>\n",
       "      <th>498</th>\n",
       "      <td>scopolamine @CHEMICAL@ amnesia @DISEASE@ @CID@...</td>\n",
       "      <td>[{'CID': {'CHEMICAL': 'scopolamine', 'DISEASE'...</td>\n",
       "    </tr>\n",
       "    <tr>\n",
       "      <th>499</th>\n",
       "      <td>apomorphine @CHEMICAL@ hypothermia @DISEASE@ @...</td>\n",
       "      <td>[{'CID': {'CHEMICAL': 'apomorphine', 'DISEASE'...</td>\n",
       "    </tr>\n",
       "  </tbody>\n",
       "</table>\n",
       "<p>500 rows × 2 columns</p>\n",
       "</div>"
      ],
      "text/plain": [
       "                                        structerd_text  \\\n",
       "0    alpha-methyldopa @CHEMICAL@ hypotensive @DISEA...   \n",
       "1    lidocaine @CHEMICAL@ cardiac asystole @DISEASE...   \n",
       "2    suxamethonium ; suxamethonium chloride ; sch @...   \n",
       "3    scopolamine ; hyoscine @CHEMICAL@ overdosage @...   \n",
       "4    lithium ; li @CHEMICAL@ chronic renal failure ...   \n",
       "..                                                 ...   \n",
       "495  zonisamide @CHEMICAL@ visual hallucinations @D...   \n",
       "496  pan ; puromycin aminonucleoside @CHEMICAL@ nep...   \n",
       "497  ticlopidine @CHEMICAL@ aplastic anemia @DISEAS...   \n",
       "498  scopolamine @CHEMICAL@ amnesia @DISEASE@ @CID@...   \n",
       "499  apomorphine @CHEMICAL@ hypothermia @DISEASE@ @...   \n",
       "\n",
       "                                      Relation triples  \n",
       "0    [{'CID': {'CHEMICAL': 'alpha-methyldopa', 'DIS...  \n",
       "1    [{'CID': {'CHEMICAL': 'lidocaine', 'DISEASE': ...  \n",
       "2    [{'CID': {'CHEMICAL': ['suxamethonium', 'suxam...  \n",
       "3    [{'CID': {'CHEMICAL': ['scopolamine', 'hyoscin...  \n",
       "4    [{'CID': {'CHEMICAL': ['lithium', 'li'], 'DISE...  \n",
       "..                                                 ...  \n",
       "495  [{'CID': {'CHEMICAL': 'zonisamide', 'DISEASE':...  \n",
       "496  [{'CID': {'CHEMICAL': ['pan', 'puromycin amino...  \n",
       "497  [{'CID': {'CHEMICAL': 'ticlopidine', 'DISEASE'...  \n",
       "498  [{'CID': {'CHEMICAL': 'scopolamine', 'DISEASE'...  \n",
       "499  [{'CID': {'CHEMICAL': 'apomorphine', 'DISEASE'...  \n",
       "\n",
       "[500 rows x 2 columns]"
      ]
     },
     "execution_count": 23,
     "metadata": {},
     "output_type": "execute_result"
    }
   ],
   "source": [
    "pd.DataFrame({'structerd_text': relations_in_structerd_text, 'Relation triples': relation_triples})"
   ]
  },
  {
   "cell_type": "code",
   "execution_count": null,
   "id": "3a345bbf-7f6e-4e60-bd20-46a57d9669b8",
   "metadata": {},
   "outputs": [],
   "source": []
  }
 ],
 "metadata": {
  "kernelspec": {
   "display_name": "Generative_RE",
   "language": "python",
   "name": "gen_re"
  },
  "language_info": {
   "codemirror_mode": {
    "name": "ipython",
    "version": 3
   },
   "file_extension": ".py",
   "mimetype": "text/x-python",
   "name": "python",
   "nbconvert_exporter": "python",
   "pygments_lexer": "ipython3",
   "version": "3.12.1"
  }
 },
 "nbformat": 4,
 "nbformat_minor": 5
}
