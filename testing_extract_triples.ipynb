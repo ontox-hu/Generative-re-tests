{
 "cells": [
  {
   "cell_type": "markdown",
   "id": "0e73e663-e567-41b5-b6da-8eabd536ebb6",
   "metadata": {},
   "source": [
    "# Extracting triples\n",
    "The model outputs relationship triples in the form of structured text. This notebook shows how the relationship triples are extracted out of that text."
   ]
  },
  {
   "cell_type": "code",
   "execution_count": 3,
   "id": "0704f035-6cc2-46b9-ae48-fcb1c2961c99",
   "metadata": {},
   "outputs": [
    {
     "name": "stderr",
     "output_type": "stream",
     "text": [
      "/home/lgrootde/Generative-re-tests/venv/lib/python3.12/site-packages/tqdm/auto.py:21: TqdmWarning: IProgress not found. Please update jupyter and ipywidgets. See https://ipywidgets.readthedocs.io/en/stable/user_install.html\n",
      "  from .autonotebook import tqdm as notebook_tqdm\n"
     ]
    }
   ],
   "source": [
    "from datasets import load_dataset\n",
    "import evaluate\n",
    "import yaml\n",
    "import re\n",
    "import pandas as pd"
   ]
  },
  {
   "cell_type": "markdown",
   "id": "404c1bd7-15c3-43e3-9dd1-504b2c2f7fe9",
   "metadata": {},
   "source": [
    "## Load Config"
   ]
  },
  {
   "cell_type": "code",
   "execution_count": 2,
   "id": "c39af0e9-3211-470b-b682-d62abdd353f3",
   "metadata": {},
   "outputs": [],
   "source": [
    "# Load the config\n",
    "\n",
    "with open('config/config_testing.yaml') as f:\n",
    "    config = yaml.load(f, Loader=yaml.FullLoader)"
   ]
  },
  {
   "cell_type": "markdown",
   "id": "3901495c-f095-43b8-9b97-b6b942c75f3d",
   "metadata": {},
   "source": [
    "## Load dataset"
   ]
  },
  {
   "cell_type": "code",
   "execution_count": 3,
   "id": "185367d7-734b-4799-ac47-caeef0072892",
   "metadata": {},
   "outputs": [],
   "source": [
    "dataset = load_dataset(\n",
    "        config['dataset_vars']['type'], \n",
    "        data_dir=config['dataset_vars']['dir'],\n",
    "        column_names=config['dataset_vars']['column_names']\n",
    "        )\n",
    "\n",
    "dataset_train = dataset['train'].select(range(1,501)) # remove first row that contains column names\n",
    "dataset_eval = dataset['validation'].select(range(1,501)) # remove first row that contains column names"
   ]
  },
  {
   "cell_type": "code",
   "execution_count": 4,
   "id": "2199406d-b326-48e9-a590-cc423542e1a2",
   "metadata": {
    "scrolled": true
   },
   "outputs": [],
   "source": [
    "relations_in_structerd_text = dataset_train[\"relations\"]\n",
    "entity_types = {\"chemical\":\"@CHEMICAL@\", \n",
    "                \"disease\":\"@DISEASE@\"}\n",
    "rel_types = {\"chemical induced disease\":\"@CID@\"}"
   ]
  },
  {
   "cell_type": "code",
   "execution_count": 5,
   "id": "38594e59-99b5-4f91-b0c4-8cddb0075d72",
   "metadata": {},
   "outputs": [
    {
     "data": {
      "text/plain": [
       "'alpha-methyldopa @CHEMICAL@ hypotensive @DISEASE@ @CID@'"
      ]
     },
     "execution_count": 5,
     "metadata": {},
     "output_type": "execute_result"
    }
   ],
   "source": [
    "# voorbeeld\n",
    "relations_in_structerd_text[0]"
   ]
  },
  {
   "cell_type": "code",
   "execution_count": null,
   "id": "3adf88b2-baa4-48c6-83e7-62f80e7044f7",
   "metadata": {},
   "outputs": [],
   "source": [
    "def split_on_labels(input_text, labels):\n",
    "    # Escape labels to ensure special characters are treated as literals in regex\n",
    "    escaped_labels = [re.escape(label) for label in labels]\n",
    "    # Join the labels into a regex pattern with alternation to match any of them\n",
    "    pattern = '|'.join(escaped_labels)\n",
    "    # Use re.split() with the compiled pattern, keeping the delimiters in the result\n",
    "    relation_segments = re.split(f'({pattern})', input_text)\n",
    "    # Filter out empty strings that might result from splitting\n",
    "    relation_segments = [segment for segment in relation_segments if segment]\n",
    "    return relation_segments"
   ]
  },
  {
   "cell_type": "code",
   "execution_count": 19,
   "id": "593572c3-1c0f-4c20-9821-029428be65cb",
   "metadata": {},
   "outputs": [
    {
     "name": "stdout",
     "output_type": "stream",
     "text": [
      "[{'CID': {'CHEMICAL': ['lithium', 'li'], 'DISEASE': 'chronic renal failure'}}, {'CID': {'CHEMICAL': ['lithium', 'li'], 'DISEASE': 'proteinuria'}}, {'CID': {'CHEMICAL': ['lithium', 'li'], 'DISEASE': 'hypertension'}}]\n"
     ]
    }
   ],
   "source": [
    "import re\n",
    "\n",
    "def extract_relation_triples(input_text, labels):\n",
    "    # Split the input text into relation segments\n",
    "    relation_segments = split_on_labels(input_text, labels)\n",
    "    \n",
    "    # Remove the last empty segment if it exists\n",
    "    if not relation_segments[-1].strip():\n",
    "        relation_segments = relation_segments[:-1]\n",
    "\n",
    "    # Map relation label to entity text\n",
    "    entity_texts = relation_segments[::2]\n",
    "    relation_labels = relation_segments[1::2]\n",
    "    if len(entity_texts) != len(relation_labels): raise ValueError('Amount of relation labels in the text does not equal to amount of entities pairs')\n",
    "    \n",
    "    # Initialize a list to hold the relation triples\n",
    "    relations = []\n",
    "    \n",
    "    for entity_text, rel_label in zip(entity_texts, relation_labels):\n",
    "        # Extract entities and their labels\n",
    "        entities = re.findall(r'(.+?)\\s@(\\w+)@', entity_text)\n",
    "        \n",
    "        # Initialize a dict to store entities mapped to their labels\n",
    "        relation_dict = {}\n",
    "        \n",
    "        for entity, label in entities:\n",
    "            # Handle coreferent mentions (splitting by \";\")\n",
    "            coreferents = [coref.strip() for coref in entity.split(';')]\n",
    "            \n",
    "            if len(coreferents) > 1:\n",
    "                relation_dict[label] = coreferents\n",
    "            else:\n",
    "                relation_dict[label] = coreferents[0]\n",
    "\n",
    "        rel_label = rel_label.split('@')[1]\n",
    "        relations.append({rel_label:relation_dict})\n",
    "    \n",
    "    return relations\n",
    "\n",
    "# Example usage\n",
    "input_text = 'lithium ; li @CHEMICAL@ chronic renal failure @DISEASE@ @CID@ lithium ; li @CHEMICAL@ proteinuria @DISEASE@ @CID@ lithium ; li @CHEMICAL@ hypertension @DISEASE@ @CID@'\n",
    "relation_triples = extract_relation_triples(input_text, ['@CID@'])\n",
    "print(relation_triples)\n"
   ]
  },
  {
   "cell_type": "code",
   "execution_count": 22,
   "id": "53d6b3c0-7345-417c-8aae-689875657dab",
   "metadata": {},
   "outputs": [
    {
     "name": "stdout",
     "output_type": "stream",
     "text": [
      "CPU times: user 4.31 ms, sys: 381 µs, total: 4.69 ms\n",
      "Wall time: 4.59 ms\n"
     ]
    }
   ],
   "source": [
    "%%time\n",
    "relation_triples = [extract_relation_triples(i, ['@CID@']) for i in relations_in_structerd_text]"
   ]
  },
  {
   "cell_type": "code",
   "execution_count": 23,
   "id": "6ae8b50f-6984-44a6-beb8-ec80761c3dad",
   "metadata": {},
   "outputs": [
    {
     "data": {
      "text/html": [
       "<div>\n",
       "<style scoped>\n",
       "    .dataframe tbody tr th:only-of-type {\n",
       "        vertical-align: middle;\n",
       "    }\n",
       "\n",
       "    .dataframe tbody tr th {\n",
       "        vertical-align: top;\n",
       "    }\n",
       "\n",
       "    .dataframe thead th {\n",
       "        text-align: right;\n",
       "    }\n",
       "</style>\n",
       "<table border=\"1\" class=\"dataframe\">\n",
       "  <thead>\n",
       "    <tr style=\"text-align: right;\">\n",
       "      <th></th>\n",
       "      <th>structerd_text</th>\n",
       "      <th>Relation triples</th>\n",
       "    </tr>\n",
       "  </thead>\n",
       "  <tbody>\n",
       "    <tr>\n",
       "      <th>0</th>\n",
       "      <td>alpha-methyldopa @CHEMICAL@ hypotensive @DISEA...</td>\n",
       "      <td>[{'CID': {'CHEMICAL': 'alpha-methyldopa', 'DIS...</td>\n",
       "    </tr>\n",
       "    <tr>\n",
       "      <th>1</th>\n",
       "      <td>lidocaine @CHEMICAL@ cardiac asystole @DISEASE...</td>\n",
       "      <td>[{'CID': {'CHEMICAL': 'lidocaine', 'DISEASE': ...</td>\n",
       "    </tr>\n",
       "    <tr>\n",
       "      <th>2</th>\n",
       "      <td>suxamethonium ; suxamethonium chloride ; sch @...</td>\n",
       "      <td>[{'CID': {'CHEMICAL': ['suxamethonium', 'suxam...</td>\n",
       "    </tr>\n",
       "    <tr>\n",
       "      <th>3</th>\n",
       "      <td>scopolamine ; hyoscine @CHEMICAL@ overdosage @...</td>\n",
       "      <td>[{'CID': {'CHEMICAL': ['scopolamine', 'hyoscin...</td>\n",
       "    </tr>\n",
       "    <tr>\n",
       "      <th>4</th>\n",
       "      <td>lithium ; li @CHEMICAL@ chronic renal failure ...</td>\n",
       "      <td>[{'CID': {'CHEMICAL': ['lithium', 'li'], 'DISE...</td>\n",
       "    </tr>\n",
       "    <tr>\n",
       "      <th>...</th>\n",
       "      <td>...</td>\n",
       "      <td>...</td>\n",
       "    </tr>\n",
       "    <tr>\n",
       "      <th>495</th>\n",
       "      <td>zonisamide @CHEMICAL@ visual hallucinations @D...</td>\n",
       "      <td>[{'CID': {'CHEMICAL': 'zonisamide', 'DISEASE':...</td>\n",
       "    </tr>\n",
       "    <tr>\n",
       "      <th>496</th>\n",
       "      <td>pan ; puromycin aminonucleoside @CHEMICAL@ nep...</td>\n",
       "      <td>[{'CID': {'CHEMICAL': ['pan', 'puromycin amino...</td>\n",
       "    </tr>\n",
       "    <tr>\n",
       "      <th>497</th>\n",
       "      <td>ticlopidine @CHEMICAL@ aplastic anemia @DISEAS...</td>\n",
       "      <td>[{'CID': {'CHEMICAL': 'ticlopidine', 'DISEASE'...</td>\n",
       "    </tr>\n",
       "    <tr>\n",
       "      <th>498</th>\n",
       "      <td>scopolamine @CHEMICAL@ amnesia @DISEASE@ @CID@...</td>\n",
       "      <td>[{'CID': {'CHEMICAL': 'scopolamine', 'DISEASE'...</td>\n",
       "    </tr>\n",
       "    <tr>\n",
       "      <th>499</th>\n",
       "      <td>apomorphine @CHEMICAL@ hypothermia @DISEASE@ @...</td>\n",
       "      <td>[{'CID': {'CHEMICAL': 'apomorphine', 'DISEASE'...</td>\n",
       "    </tr>\n",
       "  </tbody>\n",
       "</table>\n",
       "<p>500 rows × 2 columns</p>\n",
       "</div>"
      ],
      "text/plain": [
       "                                        structerd_text  \\\n",
       "0    alpha-methyldopa @CHEMICAL@ hypotensive @DISEA...   \n",
       "1    lidocaine @CHEMICAL@ cardiac asystole @DISEASE...   \n",
       "2    suxamethonium ; suxamethonium chloride ; sch @...   \n",
       "3    scopolamine ; hyoscine @CHEMICAL@ overdosage @...   \n",
       "4    lithium ; li @CHEMICAL@ chronic renal failure ...   \n",
       "..                                                 ...   \n",
       "495  zonisamide @CHEMICAL@ visual hallucinations @D...   \n",
       "496  pan ; puromycin aminonucleoside @CHEMICAL@ nep...   \n",
       "497  ticlopidine @CHEMICAL@ aplastic anemia @DISEAS...   \n",
       "498  scopolamine @CHEMICAL@ amnesia @DISEASE@ @CID@...   \n",
       "499  apomorphine @CHEMICAL@ hypothermia @DISEASE@ @...   \n",
       "\n",
       "                                      Relation triples  \n",
       "0    [{'CID': {'CHEMICAL': 'alpha-methyldopa', 'DIS...  \n",
       "1    [{'CID': {'CHEMICAL': 'lidocaine', 'DISEASE': ...  \n",
       "2    [{'CID': {'CHEMICAL': ['suxamethonium', 'suxam...  \n",
       "3    [{'CID': {'CHEMICAL': ['scopolamine', 'hyoscin...  \n",
       "4    [{'CID': {'CHEMICAL': ['lithium', 'li'], 'DISE...  \n",
       "..                                                 ...  \n",
       "495  [{'CID': {'CHEMICAL': 'zonisamide', 'DISEASE':...  \n",
       "496  [{'CID': {'CHEMICAL': ['pan', 'puromycin amino...  \n",
       "497  [{'CID': {'CHEMICAL': 'ticlopidine', 'DISEASE'...  \n",
       "498  [{'CID': {'CHEMICAL': 'scopolamine', 'DISEASE'...  \n",
       "499  [{'CID': {'CHEMICAL': 'apomorphine', 'DISEASE'...  \n",
       "\n",
       "[500 rows x 2 columns]"
      ]
     },
     "execution_count": 23,
     "metadata": {},
     "output_type": "execute_result"
    }
   ],
   "source": [
    "pd.DataFrame({'structerd_text': relations_in_structerd_text, 'Relation triples': relation_triples})"
   ]
  },
  {
   "cell_type": "markdown",
   "id": "6f0775f7-9a04-4e53-b531-6b1c5fd94fe6",
   "metadata": {},
   "source": [
    "# Using 🤗 Evaluate to calculate accuracy, f1, precision and recall"
   ]
  },
  {
   "cell_type": "code",
   "execution_count": 4,
   "id": "7851e40c-1195-4a26-ad50-02b87605877d",
   "metadata": {},
   "outputs": [
    {
     "name": "stderr",
     "output_type": "stream",
     "text": [
      "Downloading builder script: 100%|██████████| 4.20k/4.20k [00:00<00:00, 19.6MB/s]\n"
     ]
    },
    {
     "ename": "ImportError",
     "evalue": "To be able to use evaluate-metric/accuracy, you need to install the following dependencies['scikit-learn'] using 'pip install sklearn' for instance'",
     "output_type": "error",
     "traceback": [
      "\u001b[0;31m---------------------------------------------------------------------------\u001b[0m",
      "\u001b[0;31mImportError\u001b[0m                               Traceback (most recent call last)",
      "Cell \u001b[0;32mIn[4], line 1\u001b[0m\n\u001b[0;32m----> 1\u001b[0m clf_metrics \u001b[38;5;241m=\u001b[39m \u001b[43mevaluate\u001b[49m\u001b[38;5;241;43m.\u001b[39;49m\u001b[43mcombine\u001b[49m\u001b[43m(\u001b[49m\u001b[43m[\u001b[49m\u001b[38;5;124;43m\"\u001b[39;49m\u001b[38;5;124;43maccuracy\u001b[39;49m\u001b[38;5;124;43m\"\u001b[39;49m\u001b[43m,\u001b[49m\u001b[43m \u001b[49m\u001b[38;5;124;43m\"\u001b[39;49m\u001b[38;5;124;43mf1\u001b[39;49m\u001b[38;5;124;43m\"\u001b[39;49m\u001b[43m,\u001b[49m\u001b[43m \u001b[49m\u001b[38;5;124;43m\"\u001b[39;49m\u001b[38;5;124;43mprecision\u001b[39;49m\u001b[38;5;124;43m\"\u001b[39;49m\u001b[43m,\u001b[49m\u001b[43m \u001b[49m\u001b[38;5;124;43m\"\u001b[39;49m\u001b[38;5;124;43mrecall\u001b[39;49m\u001b[38;5;124;43m\"\u001b[39;49m\u001b[43m]\u001b[49m\u001b[43m)\u001b[49m\n",
      "File \u001b[0;32m~/Generative-re-tests/venv/lib/python3.12/site-packages/evaluate/module.py:1029\u001b[0m, in \u001b[0;36mcombine\u001b[0;34m(evaluations, force_prefix)\u001b[0m\n\u001b[1;32m   1003\u001b[0m \u001b[38;5;28;01mdef\u001b[39;00m \u001b[38;5;21mcombine\u001b[39m(evaluations, force_prefix\u001b[38;5;241m=\u001b[39m\u001b[38;5;28;01mFalse\u001b[39;00m):\n\u001b[1;32m   1004\u001b[0m \u001b[38;5;250m    \u001b[39m\u001b[38;5;124;03m\"\"\"Combines several metrics, comparisons, or measurements into a single `CombinedEvaluations` object that\u001b[39;00m\n\u001b[1;32m   1005\u001b[0m \u001b[38;5;124;03m    can be used like a single evaluation module.\u001b[39;00m\n\u001b[1;32m   1006\u001b[0m \n\u001b[0;32m   (...)\u001b[0m\n\u001b[1;32m   1026\u001b[0m \u001b[38;5;124;03m    ```\u001b[39;00m\n\u001b[1;32m   1027\u001b[0m \u001b[38;5;124;03m    \"\"\"\u001b[39;00m\n\u001b[0;32m-> 1029\u001b[0m     \u001b[38;5;28;01mreturn\u001b[39;00m \u001b[43mCombinedEvaluations\u001b[49m\u001b[43m(\u001b[49m\u001b[43mevaluations\u001b[49m\u001b[43m,\u001b[49m\u001b[43m \u001b[49m\u001b[43mforce_prefix\u001b[49m\u001b[38;5;241;43m=\u001b[39;49m\u001b[43mforce_prefix\u001b[49m\u001b[43m)\u001b[49m\n",
      "File \u001b[0;32m~/Generative-re-tests/venv/lib/python3.12/site-packages/evaluate/module.py:881\u001b[0m, in \u001b[0;36mCombinedEvaluations.__init__\u001b[0;34m(self, evaluation_modules, force_prefix)\u001b[0m\n\u001b[1;32m    879\u001b[0m \u001b[38;5;28;01mfor\u001b[39;00m module \u001b[38;5;129;01min\u001b[39;00m \u001b[38;5;28mself\u001b[39m\u001b[38;5;241m.\u001b[39mevaluation_modules:\n\u001b[1;32m    880\u001b[0m     \u001b[38;5;28;01mif\u001b[39;00m \u001b[38;5;28misinstance\u001b[39m(module, \u001b[38;5;28mstr\u001b[39m):\n\u001b[0;32m--> 881\u001b[0m         module \u001b[38;5;241m=\u001b[39m \u001b[43mload\u001b[49m\u001b[43m(\u001b[49m\u001b[43mmodule\u001b[49m\u001b[43m)\u001b[49m\n\u001b[1;32m    882\u001b[0m     loaded_modules\u001b[38;5;241m.\u001b[39mappend(module)\n\u001b[1;32m    883\u001b[0m \u001b[38;5;28mself\u001b[39m\u001b[38;5;241m.\u001b[39mevaluation_modules \u001b[38;5;241m=\u001b[39m loaded_modules\n",
      "File \u001b[0;32m~/Generative-re-tests/venv/lib/python3.12/site-packages/evaluate/loading.py:748\u001b[0m, in \u001b[0;36mload\u001b[0;34m(path, config_name, module_type, process_id, num_process, cache_dir, experiment_id, keep_in_memory, download_config, download_mode, revision, **init_kwargs)\u001b[0m\n\u001b[1;32m    703\u001b[0m \u001b[38;5;250m\u001b[39m\u001b[38;5;124;03m\"\"\"Load a [`~evaluate.EvaluationModule`].\u001b[39;00m\n\u001b[1;32m    704\u001b[0m \n\u001b[1;32m    705\u001b[0m \u001b[38;5;124;03mArgs:\u001b[39;00m\n\u001b[0;32m   (...)\u001b[0m\n\u001b[1;32m    745\u001b[0m \u001b[38;5;124;03m    ```\u001b[39;00m\n\u001b[1;32m    746\u001b[0m \u001b[38;5;124;03m\"\"\"\u001b[39;00m\n\u001b[1;32m    747\u001b[0m download_mode \u001b[38;5;241m=\u001b[39m DownloadMode(download_mode \u001b[38;5;129;01mor\u001b[39;00m DownloadMode\u001b[38;5;241m.\u001b[39mREUSE_DATASET_IF_EXISTS)\n\u001b[0;32m--> 748\u001b[0m evaluation_module \u001b[38;5;241m=\u001b[39m \u001b[43mevaluation_module_factory\u001b[49m\u001b[43m(\u001b[49m\n\u001b[1;32m    749\u001b[0m \u001b[43m    \u001b[49m\u001b[43mpath\u001b[49m\u001b[43m,\u001b[49m\u001b[43m \u001b[49m\u001b[43mmodule_type\u001b[49m\u001b[38;5;241;43m=\u001b[39;49m\u001b[43mmodule_type\u001b[49m\u001b[43m,\u001b[49m\u001b[43m \u001b[49m\u001b[43mrevision\u001b[49m\u001b[38;5;241;43m=\u001b[39;49m\u001b[43mrevision\u001b[49m\u001b[43m,\u001b[49m\u001b[43m \u001b[49m\u001b[43mdownload_config\u001b[49m\u001b[38;5;241;43m=\u001b[39;49m\u001b[43mdownload_config\u001b[49m\u001b[43m,\u001b[49m\u001b[43m \u001b[49m\u001b[43mdownload_mode\u001b[49m\u001b[38;5;241;43m=\u001b[39;49m\u001b[43mdownload_mode\u001b[49m\n\u001b[1;32m    750\u001b[0m \u001b[43m\u001b[49m\u001b[43m)\u001b[49m\n\u001b[1;32m    751\u001b[0m evaluation_cls \u001b[38;5;241m=\u001b[39m import_main_class(evaluation_module\u001b[38;5;241m.\u001b[39mmodule_path)\n\u001b[1;32m    752\u001b[0m evaluation_instance \u001b[38;5;241m=\u001b[39m evaluation_cls(\n\u001b[1;32m    753\u001b[0m     config_name\u001b[38;5;241m=\u001b[39mconfig_name,\n\u001b[1;32m    754\u001b[0m     process_id\u001b[38;5;241m=\u001b[39mprocess_id,\n\u001b[0;32m   (...)\u001b[0m\n\u001b[1;32m    760\u001b[0m     \u001b[38;5;241m*\u001b[39m\u001b[38;5;241m*\u001b[39minit_kwargs,\n\u001b[1;32m    761\u001b[0m )\n",
      "File \u001b[0;32m~/Generative-re-tests/venv/lib/python3.12/site-packages/evaluate/loading.py:680\u001b[0m, in \u001b[0;36mevaluation_module_factory\u001b[0;34m(path, module_type, revision, download_config, download_mode, force_local_path, dynamic_modules_path, **download_kwargs)\u001b[0m\n\u001b[1;32m    678\u001b[0m                 \u001b[38;5;28;01mpass\u001b[39;00m\n\u001b[1;32m    679\u001b[0m         \u001b[38;5;28;01mif\u001b[39;00m \u001b[38;5;129;01mnot\u001b[39;00m \u001b[38;5;28misinstance\u001b[39m(e1, (\u001b[38;5;167;01mConnectionError\u001b[39;00m, \u001b[38;5;167;01mFileNotFoundError\u001b[39;00m)):\n\u001b[0;32m--> 680\u001b[0m             \u001b[38;5;28;01mraise\u001b[39;00m e1 \u001b[38;5;28;01mfrom\u001b[39;00m \u001b[38;5;28;01mNone\u001b[39;00m\n\u001b[1;32m    681\u001b[0m         \u001b[38;5;28;01mraise\u001b[39;00m \u001b[38;5;167;01mFileNotFoundError\u001b[39;00m(\n\u001b[1;32m    682\u001b[0m             \u001b[38;5;124mf\u001b[39m\u001b[38;5;124m\"\u001b[39m\u001b[38;5;124mCouldn\u001b[39m\u001b[38;5;124m'\u001b[39m\u001b[38;5;124mt find a module script at \u001b[39m\u001b[38;5;132;01m{\u001b[39;00mrelative_to_absolute_path(combined_path)\u001b[38;5;132;01m}\u001b[39;00m\u001b[38;5;124m. \u001b[39m\u001b[38;5;124m\"\u001b[39m\n\u001b[1;32m    683\u001b[0m             \u001b[38;5;124mf\u001b[39m\u001b[38;5;124m\"\u001b[39m\u001b[38;5;124mModule \u001b[39m\u001b[38;5;124m'\u001b[39m\u001b[38;5;132;01m{\u001b[39;00mpath\u001b[38;5;132;01m}\u001b[39;00m\u001b[38;5;124m'\u001b[39m\u001b[38;5;124m doesn\u001b[39m\u001b[38;5;124m'\u001b[39m\u001b[38;5;124mt exist on the Hugging Face Hub either.\u001b[39m\u001b[38;5;124m\"\u001b[39m\n\u001b[1;32m    684\u001b[0m         ) \u001b[38;5;28;01mfrom\u001b[39;00m \u001b[38;5;28;01mNone\u001b[39;00m\n\u001b[1;32m    685\u001b[0m \u001b[38;5;28;01melse\u001b[39;00m:\n",
      "File \u001b[0;32m~/Generative-re-tests/venv/lib/python3.12/site-packages/evaluate/loading.py:639\u001b[0m, in \u001b[0;36mevaluation_module_factory\u001b[0;34m(path, module_type, revision, download_config, download_mode, force_local_path, dynamic_modules_path, **download_kwargs)\u001b[0m\n\u001b[1;32m    631\u001b[0m \u001b[38;5;28;01mfor\u001b[39;00m current_type \u001b[38;5;129;01min\u001b[39;00m [\u001b[38;5;124m\"\u001b[39m\u001b[38;5;124mmetric\u001b[39m\u001b[38;5;124m\"\u001b[39m, \u001b[38;5;124m\"\u001b[39m\u001b[38;5;124mcomparison\u001b[39m\u001b[38;5;124m\"\u001b[39m, \u001b[38;5;124m\"\u001b[39m\u001b[38;5;124mmeasurement\u001b[39m\u001b[38;5;124m\"\u001b[39m]:\n\u001b[1;32m    632\u001b[0m     \u001b[38;5;28;01mtry\u001b[39;00m:\n\u001b[1;32m    633\u001b[0m         \u001b[38;5;28;01mreturn\u001b[39;00m \u001b[43mHubEvaluationModuleFactory\u001b[49m\u001b[43m(\u001b[49m\n\u001b[1;32m    634\u001b[0m \u001b[43m            \u001b[49m\u001b[38;5;124;43mf\u001b[39;49m\u001b[38;5;124;43m\"\u001b[39;49m\u001b[38;5;124;43mevaluate-\u001b[39;49m\u001b[38;5;132;43;01m{\u001b[39;49;00m\u001b[43mcurrent_type\u001b[49m\u001b[38;5;132;43;01m}\u001b[39;49;00m\u001b[38;5;124;43m/\u001b[39;49m\u001b[38;5;132;43;01m{\u001b[39;49;00m\u001b[43mpath\u001b[49m\u001b[38;5;132;43;01m}\u001b[39;49;00m\u001b[38;5;124;43m\"\u001b[39;49m\u001b[43m,\u001b[49m\n\u001b[1;32m    635\u001b[0m \u001b[43m            \u001b[49m\u001b[43mrevision\u001b[49m\u001b[38;5;241;43m=\u001b[39;49m\u001b[43mrevision\u001b[49m\u001b[43m,\u001b[49m\n\u001b[1;32m    636\u001b[0m \u001b[43m            \u001b[49m\u001b[43mdownload_config\u001b[49m\u001b[38;5;241;43m=\u001b[39;49m\u001b[43mdownload_config\u001b[49m\u001b[43m,\u001b[49m\n\u001b[1;32m    637\u001b[0m \u001b[43m            \u001b[49m\u001b[43mdownload_mode\u001b[49m\u001b[38;5;241;43m=\u001b[39;49m\u001b[43mdownload_mode\u001b[49m\u001b[43m,\u001b[49m\n\u001b[1;32m    638\u001b[0m \u001b[43m            \u001b[49m\u001b[43mdynamic_modules_path\u001b[49m\u001b[38;5;241;43m=\u001b[39;49m\u001b[43mdynamic_modules_path\u001b[49m\u001b[43m,\u001b[49m\n\u001b[0;32m--> 639\u001b[0m \u001b[43m        \u001b[49m\u001b[43m)\u001b[49m\u001b[38;5;241;43m.\u001b[39;49m\u001b[43mget_module\u001b[49m\u001b[43m(\u001b[49m\u001b[43m)\u001b[49m\n\u001b[1;32m    640\u001b[0m     \u001b[38;5;28;01mexcept\u001b[39;00m \u001b[38;5;167;01mConnectionError\u001b[39;00m:\n\u001b[1;32m    641\u001b[0m         \u001b[38;5;28;01mpass\u001b[39;00m\n",
      "File \u001b[0;32m~/Generative-re-tests/venv/lib/python3.12/site-packages/evaluate/loading.py:489\u001b[0m, in \u001b[0;36mHubEvaluationModuleFactory.get_module\u001b[0;34m(self)\u001b[0m\n\u001b[1;32m    486\u001b[0m         \u001b[38;5;28;01mraise\u001b[39;00m err\n\u001b[1;32m    488\u001b[0m imports \u001b[38;5;241m=\u001b[39m get_imports(local_path)\n\u001b[0;32m--> 489\u001b[0m local_imports \u001b[38;5;241m=\u001b[39m \u001b[43m_download_additional_modules\u001b[49m\u001b[43m(\u001b[49m\n\u001b[1;32m    490\u001b[0m \u001b[43m    \u001b[49m\u001b[43mname\u001b[49m\u001b[38;5;241;43m=\u001b[39;49m\u001b[38;5;28;43mself\u001b[39;49m\u001b[38;5;241;43m.\u001b[39;49m\u001b[43mname\u001b[49m\u001b[43m,\u001b[49m\n\u001b[1;32m    491\u001b[0m \u001b[43m    \u001b[49m\u001b[43mbase_path\u001b[49m\u001b[38;5;241;43m=\u001b[39;49m\u001b[43mhf_hub_url\u001b[49m\u001b[43m(\u001b[49m\u001b[43mpath\u001b[49m\u001b[38;5;241;43m=\u001b[39;49m\u001b[38;5;28;43mself\u001b[39;49m\u001b[38;5;241;43m.\u001b[39;49m\u001b[43mname\u001b[49m\u001b[43m,\u001b[49m\u001b[43m \u001b[49m\u001b[43mname\u001b[49m\u001b[38;5;241;43m=\u001b[39;49m\u001b[38;5;124;43m\"\u001b[39;49m\u001b[38;5;124;43m\"\u001b[39;49m\u001b[43m,\u001b[49m\u001b[43m \u001b[49m\u001b[43mrevision\u001b[49m\u001b[38;5;241;43m=\u001b[39;49m\u001b[43mrevision\u001b[49m\u001b[43m)\u001b[49m\u001b[43m,\u001b[49m\n\u001b[1;32m    492\u001b[0m \u001b[43m    \u001b[49m\u001b[43mimports\u001b[49m\u001b[38;5;241;43m=\u001b[39;49m\u001b[43mimports\u001b[49m\u001b[43m,\u001b[49m\n\u001b[1;32m    493\u001b[0m \u001b[43m    \u001b[49m\u001b[43mdownload_config\u001b[49m\u001b[38;5;241;43m=\u001b[39;49m\u001b[38;5;28;43mself\u001b[39;49m\u001b[38;5;241;43m.\u001b[39;49m\u001b[43mdownload_config\u001b[49m\u001b[43m,\u001b[49m\n\u001b[1;32m    494\u001b[0m \u001b[43m\u001b[49m\u001b[43m)\u001b[49m\n\u001b[1;32m    495\u001b[0m \u001b[38;5;66;03m# copy the script and the files in an importable directory\u001b[39;00m\n\u001b[1;32m    496\u001b[0m dynamic_modules_path \u001b[38;5;241m=\u001b[39m \u001b[38;5;28mself\u001b[39m\u001b[38;5;241m.\u001b[39mdynamic_modules_path \u001b[38;5;28;01mif\u001b[39;00m \u001b[38;5;28mself\u001b[39m\u001b[38;5;241m.\u001b[39mdynamic_modules_path \u001b[38;5;28;01melse\u001b[39;00m init_dynamic_modules()\n",
      "File \u001b[0;32m~/Generative-re-tests/venv/lib/python3.12/site-packages/evaluate/loading.py:265\u001b[0m, in \u001b[0;36m_download_additional_modules\u001b[0;34m(name, base_path, imports, download_config)\u001b[0m\n\u001b[1;32m    263\u001b[0m         needs_to_be_installed\u001b[38;5;241m.\u001b[39madd((library_import_name, library_import_path))\n\u001b[1;32m    264\u001b[0m \u001b[38;5;28;01mif\u001b[39;00m needs_to_be_installed:\n\u001b[0;32m--> 265\u001b[0m     \u001b[38;5;28;01mraise\u001b[39;00m \u001b[38;5;167;01mImportError\u001b[39;00m(\n\u001b[1;32m    266\u001b[0m         \u001b[38;5;124mf\u001b[39m\u001b[38;5;124m\"\u001b[39m\u001b[38;5;124mTo be able to use \u001b[39m\u001b[38;5;132;01m{\u001b[39;00mname\u001b[38;5;132;01m}\u001b[39;00m\u001b[38;5;124m, you need to install the following dependencies\u001b[39m\u001b[38;5;124m\"\u001b[39m\n\u001b[1;32m    267\u001b[0m         \u001b[38;5;124mf\u001b[39m\u001b[38;5;124m\"\u001b[39m\u001b[38;5;132;01m{\u001b[39;00m[lib_name\u001b[38;5;250m \u001b[39m\u001b[38;5;28;01mfor\u001b[39;00m\u001b[38;5;250m \u001b[39mlib_name,\u001b[38;5;250m \u001b[39mlib_path\u001b[38;5;250m \u001b[39m\u001b[38;5;129;01min\u001b[39;00m\u001b[38;5;250m \u001b[39mneeds_to_be_installed]\u001b[38;5;132;01m}\u001b[39;00m\u001b[38;5;124m using \u001b[39m\u001b[38;5;124m'\u001b[39m\u001b[38;5;124mpip install \u001b[39m\u001b[38;5;124m\"\u001b[39m\n\u001b[1;32m    268\u001b[0m         \u001b[38;5;124mf\u001b[39m\u001b[38;5;124m\"\u001b[39m\u001b[38;5;132;01m{\u001b[39;00m\u001b[38;5;124m'\u001b[39m\u001b[38;5;124m \u001b[39m\u001b[38;5;124m'\u001b[39m\u001b[38;5;241m.\u001b[39mjoin([lib_path\u001b[38;5;250m \u001b[39m\u001b[38;5;28;01mfor\u001b[39;00m\u001b[38;5;250m \u001b[39mlib_name,\u001b[38;5;250m \u001b[39mlib_path\u001b[38;5;250m \u001b[39m\u001b[38;5;129;01min\u001b[39;00m\u001b[38;5;250m \u001b[39mneeds_to_be_installed])\u001b[38;5;132;01m}\u001b[39;00m\u001b[38;5;124m'\u001b[39m\u001b[38;5;124m for instance\u001b[39m\u001b[38;5;124m'\u001b[39m\u001b[38;5;124m\"\u001b[39m\n\u001b[1;32m    269\u001b[0m     )\n\u001b[1;32m    270\u001b[0m \u001b[38;5;28;01mreturn\u001b[39;00m local_imports\n",
      "\u001b[0;31mImportError\u001b[0m: To be able to use evaluate-metric/accuracy, you need to install the following dependencies['scikit-learn'] using 'pip install sklearn' for instance'"
     ]
    }
   ],
   "source": [
    "clf_metrics = evaluate.combine([\"accuracy\", \"f1\", \"precision\", \"recall\"])"
   ]
  },
  {
   "cell_type": "markdown",
   "id": "7c2c3084-e19d-499f-952a-77a2cddd5ddd",
   "metadata": {},
   "source": [
    "### Custom implementation:"
   ]
  },
  {
   "cell_type": "code",
   "execution_count": 31,
   "id": "3a345bbf-7f6e-4e60-bd20-46a57d9669b8",
   "metadata": {},
   "outputs": [],
   "source": [
    "def re_metric(predictions, references):\n",
    "    true_pos = 0\n",
    "    false_pos = 0\n",
    "    for pred in predictions:\n",
    "        if pred in references: # True positive\n",
    "            true_pos=+1\n",
    "            references.remove(pred)\n",
    "        else: # False positive\n",
    "            false_pos+=1\n",
    "            \n",
    "    # False negative\n",
    "    false_neg = len(predictions)\n",
    "\n",
    "    # Calculate metrics\n",
    "    if (true_pos+false_pos) == 0: precision=0.0\n",
    "    else: precision = true_pos/(true_pos+false_pos)\n",
    "\n",
    "    if (true_pos+false_neg) == 0: recall=0.0\n",
    "    else: recall = true_pos/(true_pos+false_neg)\n",
    "\n",
    "    if (precision+recall) == 0: f1=0.0\n",
    "    else: f1 = 2 * ((precision*recall)/(precision+recall))\n",
    "\n",
    "    return {'precision':precision, 'recall':recall, 'f1':f1}"
   ]
  },
  {
   "cell_type": "code",
   "execution_count": 32,
   "id": "34e851c2-9872-42a2-809d-eedd05e7a5f2",
   "metadata": {},
   "outputs": [
    {
     "data": {
      "text/plain": [
       "{'precision': 0.0, 'recall': 0.0, 'f1': 0.0}"
      ]
     },
     "execution_count": 32,
     "metadata": {},
     "output_type": "execute_result"
    }
   ],
   "source": [
    "re_metric(relation_triples[3], relation_triples[2])"
   ]
  }
 ],
 "metadata": {
  "kernelspec": {
   "display_name": "Generative_RE",
   "language": "python",
   "name": "gen_re"
  },
  "language_info": {
   "codemirror_mode": {
    "name": "ipython",
    "version": 3
   },
   "file_extension": ".py",
   "mimetype": "text/x-python",
   "name": "python",
   "nbconvert_exporter": "python",
   "pygments_lexer": "ipython3",
   "version": "3.12.1"
  }
 },
 "nbformat": 4,
 "nbformat_minor": 5
}
